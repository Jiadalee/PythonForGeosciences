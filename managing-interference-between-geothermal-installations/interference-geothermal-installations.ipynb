{
  "nbformat": 4,
  "nbformat_minor": 0,
  "metadata": {
    "kernelspec": {
      "display_name": "Python 3",
      "language": "python",
      "name": "python3"
    },
    "language_info": {
      "codemirror_mode": {
        "name": "ipython",
        "version": 3
      },
      "file_extension": ".py",
      "mimetype": "text/x-python",
      "name": "python",
      "nbconvert_exporter": "python",
      "pygments_lexer": "ipython3",
      "version": "3.7.1"
    },
    "colab": {
      "name": "PFG-Managing-Interference-Between-Geothermal-Installations.ipynb",
      "provenance": [],
      "collapsed_sections": [],
      "include_colab_link": true
    }
  },
  "cells": [
    {
      "cell_type": "markdown",
      "metadata": {
        "id": "view-in-github",
        "colab_type": "text"
      },
      "source": [
        "<a href=\"https://colab.research.google.com/github/guiattard/PythonForGeosciences/blob/master/managing-interference-between-geothermal-installations/interference-geothermal-installations.ipynb\" target=\"_parent\"><img src=\"https://colab.research.google.com/assets/colab-badge.svg\" alt=\"Open In Colab\"/></a>"
      ]
    },
    {
      "cell_type": "markdown",
      "metadata": {
        "id": "m7dkxZmrAeLl"
      },
      "source": [
        "# Managing Interference Between Geothermal Installations"
      ]
    },
    {
      "cell_type": "markdown",
      "metadata": {
        "id": "l3uJuAt6AeLn"
      },
      "source": [
        "by [Guilllaume Attard](https://guillaumeattard.com/), [Hannes Hemmerle](https://applied.geo.uni-halle.de/people/hannes-hemmerle/) and [Peter Bayer](http://www.bayerpeter.com/)\n",
        "\n",
        "http://pythonforgeosciences.com\n",
        "\n",
        "(last update 17/09/2020)"
      ]
    },
    {
      "cell_type": "markdown",
      "metadata": {
        "id": "4k1vgRKjAeLq"
      },
      "source": [
        "![Interference between geothermal installations by Cerema 2020](https://guillaumeattard.com/wp-content/uploads/2020/08/managing-interference-between-geothermal-installations.png)"
      ]
    },
    {
      "cell_type": "markdown",
      "metadata": {
        "id": "-QyIqXJHAeLs"
      },
      "source": [
        "## Introduction"
      ]
    },
    {
      "cell_type": "markdown",
      "metadata": {
        "id": "iek3BASdAeLu"
      },
      "source": [
        "There is an increasing interest in utilizing shallow ground and groundwater as a source for geothermal heating and cooling. Either open- or closed-loop systems can be used for heat exchange with the subsurface to supply heat pumps of buildings. Open-loop systems (Fig. 1a) are either single or groups of wells which utilize groundwater directly as a heat carrier. Commonly, such groundwater heat pump (GWHP) systems are installations of doublet configurations with an extraction well for groundwater abstraction, and an injection well, where water is injected back into the same aquifer at the same rate, but at an altered temperature. Standard closed-loop systems (Fig. 1b) consist of vertical boreholes (BHEs) where plastic tubes are installed for circulating a heat carrier fluid.\n",
        "\n",
        "Augmented geothermal utilization entails a higher density of installations and potential competition among adjacent systems. When neighbouring geothermal installations are regularly operated in a similar mode of seasonal heating and cooling, there is a risk that thermal interference mitigates the technological performance. Thus, for concerted management of dense installations, especially in cities, authorities and operators have to account for potential thermal interference. Proper management of these systems, however, is not only required in order to regulate the competition for the limited geothermal resource, but is also particularly relevant for sustainable thermal groundwater management that prevents heating or cooling of the subsurface towards environmentally critical levels.\n",
        "\n",
        "The aim of this article is to present a methodology to define the appropriate distance that should be kept between existing and future installations of different power to protect existing installations and optimally manage the urban thermal use of shallow groundwater. The following section introduces how thermal capture probability can be used as a criterion to define protection perimeters around geothermal installations. Subsequently, analytical models are adapted to calculate thermal capture probabilities, as well as the maximal acceptable power that can be exploited by open or closed loop geothermal installations.\n",
        "\n",
        "An example focusing on the long term thermal impact and probability of capture around a multiple BHE installation is given at the end of this article."
      ]
    },
    {
      "cell_type": "markdown",
      "metadata": {
        "id": "GwrJfaXZAeLw"
      },
      "source": [
        "![Open and closed geothermal systems (from Bayer et al. 2019 (RSER))](https://guillaumeattard.com/wp-content/uploads/2020/08/open-closed-geothermal-systems.png)\n",
        "\n",
        "*Figure 1: a) Open and b) closed geothermal systems (from [Bayer et al. 2019](https://doi.org/10.1016/j.rser.2019.02.019))*"
      ]
    },
    {
      "cell_type": "markdown",
      "metadata": {
        "id": "tIq-SbKvAeLw"
      },
      "source": [
        "In the following, some libraries are needed:"
      ]
    },
    {
      "cell_type": "code",
      "metadata": {
        "id": "O0VbmUi0AeL1"
      },
      "source": [
        "import numpy as np\n",
        "import matplotlib as mpl\n",
        "import matplotlib.pyplot as plt\n",
        "from scipy.interpolate import griddata\n",
        "from scipy.special import erf,erfc,erfcinv\n",
        "import scipy.integrate as integrate   \n",
        "\n",
        "%matplotlib inline"
      ],
      "execution_count": null,
      "outputs": []
    },
    {
      "cell_type": "markdown",
      "metadata": {
        "id": "LSC3kVVPAeL8"
      },
      "source": [
        "In the following some physical parameters are considered constant in the all notebook (you can of couse change them if you want to see the influence on the results):"
      ]
    },
    {
      "cell_type": "code",
      "metadata": {
        "id": "bIeWhpy_AeL-"
      },
      "source": [
        "C_m = float(2.888*1e6) #volumetric heat capacity porous media (J /kg /K)\n",
        "C_w = float(4.185*1e6) #volumetric heat capacity water (J /kg /K)\n",
        "alpha_L = float(5) #longitudinal dispersivity (m)\n",
        "alpha_T = float(0.5) #transverse dispersivity (m)\n",
        "lambda_m = float(2.24) #thermal conductivity (W /m /K)"
      ],
      "execution_count": null,
      "outputs": []
    },
    {
      "cell_type": "markdown",
      "metadata": {
        "id": "l2UHYQCgAeME"
      },
      "source": [
        "## Definition of a thermal protection perimeter"
      ]
    },
    {
      "cell_type": "markdown",
      "metadata": {
        "id": "634VIpwfAeMG"
      },
      "source": [
        "The problem we are studying is to define a thermal protection perimeter around a geothermal installation to avoid an unreasonable temperature alteration $\\Delta T_{max}$, which would be caused by an external heat injection $I$ (Fig. 2). The following definitions are given:\n",
        "- The protection target area (PTA) of a geothermal installation is defined as the small core area that includes all heat production devices of the installation.\n",
        "- The thermal protection perimeter (TPP) of an installation is defined as the surrounding area, where an external heat injection $I$ generates a temperature alteration above $\\Delta T_{max}$ in the protection target area of the installation.\n",
        "\n",
        "The interaction between the external heat injection and the PTA can be described by a transfer function, which is defined as the outlet response of the advective-dispersive system to a heat Dirac input at the location of the external heat injection. This transfer function represents a probability density function of travel time distribution between the external heat injection location and the PTA."
      ]
    },
    {
      "cell_type": "markdown",
      "metadata": {
        "id": "9qB8PoLCAeMG"
      },
      "source": [
        "![transfer-function-heat-geothermal-systems](https://guillaumeattard.com/wp-content/uploads/2020/08/transfer-function-heat-geothermal-systems.jpg)\n",
        "\n",
        "*Figure 2: Illustration of protection target areas (PTA) of open-loop (a) and closed-loop (b) geothermal systems operating within a 2D model aquifer with a regional groundwater flow from the West to the East (from [Attard et al., 2020](https://doi.org/10.1016/j.renene.2019.06.095))*"
      ]
    },
    {
      "cell_type": "markdown",
      "metadata": {
        "id": "dq33W5M6AeMJ"
      },
      "source": [
        "By expressing (1) the probability $p(t)$ that a heat quantity introduced somewhere into the aquifer is captured at the PTA and (2) the heat flowing through the PTA, it is possible to determine a protection criterion linking :\n",
        "- the probability of capture $p(t)$,\n",
        "- the maximal acceptable temperature variation $\\Delta T_{max}$ in the protection target area of the installation,\n",
        "- $Q$, the water flowing through the PTA: the pumping rate for an open-syestem, the Darcy rate for a closed-system,\n",
        "- the external heat power injected $I$\n",
        "\n",
        "In fact, under the assumption of (1) a constant undisturbed background temperature, (2) steady-state hydraulic conditions *(This also means that any external heat injection by a neighbouring system is assumed to have a negligible temporal influence on the flow regime)* and (3) a constant external heat input, the protection criterion is given by:\n",
        "\n",
        "$p(t) < \\frac{\\Delta T_{max} \\times Q \\times C_{w}}{I}$\n",
        "\n",
        "where $C_{W}$ is the volumetric heat capacity of water. **This criterion implies that if the external heat power injection $I$ is located in an area where the heat probability of capture is low enough, the warming of water inside the PTA will be lower than $\\Delta T_{max}$.**"
      ]
    },
    {
      "cell_type": "markdown",
      "metadata": {
        "id": "98B-WNPJAeMK"
      },
      "source": [
        "## Quantifying thermal capture probabilities"
      ]
    },
    {
      "cell_type": "markdown",
      "metadata": {
        "id": "9Dv3bQnzAeMK"
      },
      "source": [
        "Thermal capture probability refers to a given geothermal installation and is defined as the probability that the heat from any spatial point is transported to this installation. The mathematical technique to compute a probability field for a thermal quantity to reach a domain of interest assumes injection of a thermal pulse in the domain of interest, and it solves the heat transport equation considering a reverse flow. The probability field can then be calculated by integration of the heat signal moving in the backward direction (Fig 3). Because the thermal response of a pulse is the derivative function of the thermal response of a constant heat load, this problem can be equivalently solved by studying groundwater temperature disturbances in the backward direction caused by a constant thermal anomaly of, for instance, $\\Delta T = 1 K$ assigned at the location of the geothermal device. Consequently, any analytical and numerical models available for simulation of the thermal impact caused by a heat injection in groundwater in the forward direction of flow can be used to determine capture probabilities in the backward direction.\n",
        "\n",
        "![backward-forward-groundwater-flow](https://guillaumeattard.com/wp-content/uploads/2020/08/backward-forward-groundwater-flow.jpg)\n",
        "\n",
        "*Figure 3: Description of the problem in the forward (a) and backward (b) directions*"
      ]
    },
    {
      "cell_type": "markdown",
      "metadata": {
        "id": "rWNe4PSBAeML"
      },
      "source": [
        "### Open-systems"
      ]
    },
    {
      "cell_type": "markdown",
      "metadata": {
        "id": "TrGj2xiMAeMM"
      },
      "source": [
        "To evaluate the zone of thermal influence by an open-loop system, semi-analytical solutions can be used (see previous article [here](https://guillaumeattard.com/article-1/)). For instance, the planar advective heat transport model described by [Hähnlein et al., (2010)](https://link.springer.com/article/10.1007/s00767-009-0125-x) can be used.\n",
        "\n",
        "The planar advective heat transport model accounts for the fact that injection may induce a high local hydraulic gradient around the injection well. In such a case, the geometry of this heat source cannot be considered only with a vertical line. Instead, the source is represented as an area in the yz-plane. Accordingly, in a 2D horizontal projection in the xy-plane, the heat source corresponds to a line perpendicular to the groundwater flow direction. Please note that this model is undefined upstream the injection (for x < 0). It is finally given by:\n",
        "\n",
        "$\\Delta T(x,y,t) = \\frac{\\Delta T_{0}}{4} \\text{erfc}\\left( \\frac{Rx - v_{a}t}{2 \\sqrt{D_{x}Rt}}\\right) \\left( \\text{erf}\\left( \\frac{y + Y/2}{2 \\sqrt{D_{y}x/v_{a}}}\\right) - \\text{erf}\\left( \\frac{y - Y/2}{2 \\sqrt{D_{y}x/v_{a}}}\\right)\\right)$\n",
        "\n",
        "with $\\Delta T_{0} = \\frac{F_{0}}{v_{a}nC_{w}Y}$, $F_{0} = \\frac{q_{h}}{b}$, $q_{h} = \\Delta T_{inj} C_{w} Q_{inj}$, $D_{x,y} = \\frac{\\lambda _{m}}{n C_{w}} + \\alpha _{L,T} v_{a}$  and $Y = \\frac{Q_{inj}}{2b v_{a} n}$\n",
        "\n",
        "To calculate probability fields upstream of production wells of open-loop systems, this model is rearranged considering $\\Delta T_{inj} = 1 K$ and a reverse flow is assumed meaning that $x$ becomes $-x$. After some simplifications, it gives: \n",
        "\n",
        "$p(x,y,t) = \\frac{1}{4} \\text{erfc}\\left( \\frac{-Rx - v_{a}t}{2 \\sqrt{D_{x}Rt}}\\right) \\left( \\text{erf}\\left( \\frac{y + Y/2}{2 \\sqrt{-D_{y}x/v_{a}}}\\right) - \\text{erf}\\left( \\frac{y - Y/2}{2 \\sqrt{-D_{y}x/v_{a}}}\\right)\\right)$\n",
        "\n",
        "Introducing:\n",
        "- $\\alpha $: the angle (degree) between the west-east diection and the direction of groundwater flow,\n",
        "- $X_{0}$ and $Y_{0}$: the location of the injection well of the doublet,\n",
        "- $X_{1}$ and $Y_{1}$: the location of the extraction well of the doublet \n",
        "\n",
        "Both models are defined as follows:"
      ]
    },
    {
      "cell_type": "code",
      "metadata": {
        "id": "rDgm50wFAeMN"
      },
      "source": [
        "def PAHT(x, y, X0, Y0, alpha, t, Qinj, DTinj, \n",
        "         b, va, n, C_m, C_w, alpha_L, alpha_T, lambda_m):\n",
        "    \"\"\"\n",
        "    This model returns the temperature difference downstream of an injection of water\n",
        "    at altered temperature\n",
        "    \"\"\"\n",
        "    Y = Qinj/(2*b*va*n)\n",
        "    qh = DTinj*C_w*Qinj\n",
        "    F0 = qh/b\n",
        "    DT0 = F0/(va*n*C_w*Y)\n",
        "    Dx = lambda_m/n/C_w + alpha_L*va\n",
        "    Dy = lambda_m/n/C_w + alpha_T*va\n",
        "    R = C_m/(n*C_w)\n",
        "     \n",
        "    alpha_rad = -alpha*np.pi/180\n",
        "    x1 = x - X0                                                          \n",
        "    y1 = y - Y0 \n",
        "     \n",
        "    x2 = np.cos(alpha_rad)*x1 - np.sin(alpha_rad)*y1                  \n",
        "    y2 = np.sin(alpha_rad)*x1 + np.cos(alpha_rad)*y1\n",
        "    \n",
        "    #To avoid an error due to sqrt with negative values\n",
        "    x2 = np.where(x2 > 0, x2, np.inf)\n",
        "     \n",
        "    res = DT0/4*erfc((R*x2 - va*t)/(2*np.sqrt(Dx*R*t)))*\\\n",
        "    (erf((y2 + Y/2)/(2*np.sqrt(Dy*x2/va))) - erf((y2 - Y/2)/(2*np.sqrt(Dy*x2/va))))\n",
        "       \n",
        "    #We correct the values when the temperature is higher to the injected temperature\n",
        "    res = np.where(res < DTinj, res, DTinj)\n",
        " \n",
        "    return res\n",
        "\n",
        "def p_open(x, y, X1, Y1, alpha, t, Qinj, \n",
        "           b, va, n, C_m, C_w, alpha_L, alpha_T, lambda_m):\n",
        "    \"\"\"\n",
        "    This model returns the probability of capture of heat injected upstream of an extraction well\n",
        "    of an open-system\n",
        "    \"\"\"\n",
        "    proba = PAHT(x, y, X1, Y1, alpha + 180, t, Qinj, 1, \n",
        "                 b, va, n, C_m, C_w, alpha_L, alpha_T, lambda_m)\n",
        "    \n",
        "    # We correct the values when probability is higher than 1\n",
        "    proba = np.where(proba < 1, proba, 1)\n",
        "    \n",
        "    return proba"
      ],
      "execution_count": null,
      "outputs": []
    },
    {
      "cell_type": "markdown",
      "metadata": {
        "id": "3xX3mlyFAeMT"
      },
      "source": [
        "With these models defined, we can visualise the thermal impact and the probability of capture around an installation. We first need to define a region of interest and create an associated grid:\n",
        "\n"
      ]
    },
    {
      "cell_type": "code",
      "metadata": {
        "id": "zez_xw2dAeMV"
      },
      "source": [
        "#definition of a grid from Xmin to Xmax, and from Ymin to Ymax\n",
        "Xmin = -50\n",
        "Xmax = 70\n",
        "xgrid_len = 200\n",
        "\n",
        "Ymin = -40\n",
        "Ymax = 70\n",
        "ygrid_len = 200\n",
        "\n",
        "#We create a grid\n",
        "xi = np.linspace(Xmin, Xmax, xgrid_len)\n",
        "yi = np.linspace(Ymin, Ymax, ygrid_len)\n",
        "xi, yi = np.meshgrid(xi, yi)"
      ],
      "execution_count": null,
      "outputs": []
    },
    {
      "cell_type": "markdown",
      "metadata": {
        "id": "LfEUut9YAeMZ"
      },
      "source": [
        "Then, we define some hydrogeological parameters as example, and the technical caracteristics of the open-loop system we want to test:"
      ]
    },
    {
      "cell_type": "code",
      "metadata": {
        "id": "pjuHw2SOAeMZ"
      },
      "source": [
        "alpha = float(20) # groundwater flow angle\n",
        "K = float(0.0015) #permeability (m/s)\n",
        "b = float(10) #aquifer thickness [m]\n",
        "grad_h = float(0.0015) #hydraulic gradient\n",
        "n = float(0.2) #effective porosity\n",
        " \n",
        "v0 = K*grad_h #darcy velocity\n",
        "va = v0/n #seepage velocity\n",
        "R = C_m/(n*C_w) #retardation factor\n",
        " \n",
        "#We define the location of the hot water injection\n",
        "X0, Y0 = 20, 20\n",
        "DTinj = 10. #temperature difference between pumping and reinjection\n",
        "Qinj = 0.0002 #injection and pumping rate m3/s\n",
        "time = 120*24*3600 # operation time in seconds (365 days)\n",
        "\n",
        "#We define the location of the extraction well\n",
        "X1, Y1 = 0, 0"
      ],
      "execution_count": null,
      "outputs": []
    },
    {
      "cell_type": "markdown",
      "metadata": {
        "id": "KPkDDp-5AeMf"
      },
      "source": [
        "We finnaly calculate the thermal impact and the probability of capture after one year of operation and we plot the result:"
      ]
    },
    {
      "cell_type": "code",
      "metadata": {
        "id": "rQ9qrUy5AeMf",
        "colab": {
          "base_uri": "https://localhost:8080/",
          "height": 378
        },
        "outputId": "6889facc-11e6-400c-ebb6-111ab7389655"
      },
      "source": [
        "from matplotlib.legend_handler import HandlerPatch\n",
        "import matplotlib.patches as mpatches\n",
        "\n",
        "\n",
        "# First we calculate the thermal impact using the PAHT model\n",
        "thermalImpact = PAHT(xi, yi, X0, Y0, alpha, time, Qinj, DTinj, \n",
        "                      b, va, n, C_m, C_w, alpha_L, alpha_T, lambda_m)\n",
        "\n",
        "# Secondly we calculate the probability of capture using the adapted model\n",
        "probabilityCapture = p_open(xi, yi, X1, Y1, alpha, time, Qinj, \n",
        "                             b, va, n, C_m, C_w, alpha_L, alpha_T, lambda_m)\n",
        "\n",
        "# Then we create the chart\n",
        "fig, ax = plt.subplots(figsize=(10,6))\n",
        "ax.set_aspect('equal')\n",
        "\n",
        "# Thermal plume caused by the open-loop doublet\n",
        "cf1= ax.contourf(xi, yi, thermalImpact, \n",
        "                 [1,2,3,4,5,6,7,8,9,10], \n",
        "                 cmap='OrRd')\n",
        "\n",
        "fig.colorbar(cf1, label = \"Temperature disturbance (K)\")\n",
        "\n",
        "# Probability of capture around the open-loop doublet\n",
        "cf2= ax.contourf(xi, yi, probabilityCapture, \n",
        "                 [0.01, 0.1,0.2,0.3,0.4,0.5,0.6,0.7,0.8,0.9,1], \n",
        "                 cmap='PRGn_r')\n",
        "fig.colorbar(cf2, label = \"Probability of capture\")\n",
        "\n",
        "ax.grid(color='black', linestyle='-', linewidth=0.1)\n",
        "\n",
        "T = ax.scatter(X0, Y0, marker='v', s=100, color='lightgray', edgecolors='k') \n",
        "P = ax.scatter(X1, Y1, marker='^', s=100, color='lightgray', edgecolors='k') \n",
        "\n",
        "ax.set_xlim(Xmin, Xmax)\n",
        "ax.set_ylim(Ymin, Ymax)\n",
        "# We add an arrow to indicate the groundwater flow direction:\n",
        "arr = ax.arrow(Xmin*0.7, Ymax*0.7, \n",
        "               15*np.cos(alpha*np.pi/180),\n",
        "               15*np.sin(alpha*np.pi/180), \n",
        "               head_width=3, \n",
        "               head_length=5, fc='k', ec='k')\n",
        "\n",
        "# To add the flow direction in the Legend:\n",
        "def make_legend_arrow(legend, orig_handle,\n",
        "                      xdescent, ydescent,\n",
        "                      width, height, fontsize):\n",
        "    p = mpatches.FancyArrow(0, 0.5*height, width, 0, length_includes_head=True, head_width=0.75*height )\n",
        "    return p\n",
        "\n",
        "plt.legend([arr, T, P], ['Flow direction', \"Injection well\", \"Extraction well\"], \n",
        "           handler_map={mpatches.FancyArrow : HandlerPatch(patch_func=make_legend_arrow)})\n",
        " \n",
        "plt.show()"
      ],
      "execution_count": null,
      "outputs": [
        {
          "output_type": "display_data",
          "data": {
            "image/png": "[encoded data removed]",
            "text/plain": [
              "<Figure size 720x432 with 3 Axes>"
            ]
          },
          "metadata": {
            "tags": [],
            "needs_background": "light"
          }
        }
      ]
    },
    {
      "cell_type": "markdown",
      "metadata": {
        "id": "wBGAtjEoAeMn"
      },
      "source": [
        "Reformulating protection criterion equation, we can determine the maximal acceptable power by:\n",
        "    \n",
        "$P_{max} < \\frac{\\Delta T_{max} \\times Q \\times C_{w}}{p(t)}$\n",
        "\n",
        "Then, considering $\\Delta T_{max} = 2 K$:"
      ]
    },
    {
      "cell_type": "code",
      "metadata": {
        "id": "nIzrJAbLAeMn",
        "colab": {
          "base_uri": "https://localhost:8080/",
          "height": 313
        },
        "outputId": "00635096-3d8b-4aca-d892-0642ed369dc2"
      },
      "source": [
        "DTmax = 2 \n",
        "\n",
        "def maxPowerOpenSystem(x, y, X1, Y1, alpha, t, Qinj, DTmax,\n",
        "         b, va, n, C_m, C_w, alpha_L, alpha_T, lambda_m):\n",
        "    \n",
        "    proba = p_open(x, y, X1, Y1, alpha, t, Qinj, \n",
        "                             b, va, n, C_m, C_w, alpha_L, alpha_T, lambda_m)\n",
        "    \n",
        "    #to avoid areas were the probability is 0 and an error, we consider a very low value instead:\n",
        "    epsilon = 0.00000001\n",
        "    proba = np.where(proba > 0, proba, epsilon)\n",
        "    \n",
        "    return DTmax*Qinj*C_w/(proba)\n",
        "\n",
        "maxPower_example = maxPowerOpenSystem(xi, yi, X1, Y1, alpha, time, Qinj, DTmax,\n",
        "         b, va, n, C_m, C_w, alpha_L, alpha_T, lambda_m)/1000 #unit kW\n",
        "\n",
        "proba_range = [round(k/20 + 0.05,2) for k in range(20)]\n",
        "power_range = [DTmax*Qinj*C_w/(p*1000) for p in proba_range[::-1]] #unit kW\n",
        "\n",
        "Xmax = 5\n",
        "Ymax = 10\n",
        "\n",
        "fig, axs = plt.subplots(1, 2,figsize=(14,5))\n",
        "ax = axs[0]\n",
        "ax.set_aspect('equal')\n",
        "\n",
        "# Probability of capture around the open-loop doublet\n",
        "cf1= ax.contourf(xi, yi, probabilityCapture, \n",
        "                 proba_range, \n",
        "                 cmap='PRGn_r')\n",
        "\n",
        "cb = fig.colorbar(cf1, ax = ax)\n",
        "cb.ax.set_ylabel('Probability of capture')\n",
        "\n",
        "ax.grid(color='black', linestyle='-', linewidth=0.1)\n",
        "\n",
        "abs_well = ax.scatter(X1, Y1, marker='^', s=100, color='lightgray', edgecolors='k')\n",
        "new_project = ax.scatter(-30, -20, marker = '+', s=100, color='black')   \n",
        "ax.set_xlim(Xmin, 5)\n",
        "ax.set_ylim(Ymin, 10)\n",
        "\n",
        "arr = ax.arrow(Xmin*0.9, Ymax*0.4, \n",
        "               7*np.cos(alpha*np.pi/180),\n",
        "               7*np.sin(alpha*np.pi/180), \n",
        "               head_width=3, \n",
        "               head_length=5, fc='k', ec='k')\n",
        "\n",
        "ax.legend([arr, abs_well, new_project], \n",
        "           ['Flow direction', 'Extraction well', 'New project'], \n",
        "           handler_map={mpatches.FancyArrow : HandlerPatch(patch_func=make_legend_arrow)},\n",
        "          loc='lower right')\n",
        "\n",
        "ax = axs[1]\n",
        "ax.set_aspect('equal')\n",
        "\n",
        "# Maximal acceptable power around the open-loop doublet\n",
        "cf2= ax.contourf(xi, yi, maxPower_example, \n",
        "                 power_range,\n",
        "                 cmap='RdYlGn')\n",
        "\n",
        "cb = fig.colorbar(cf2, ax = ax)\n",
        "cb.ax.set_ylabel('Maximal acceptable power (kW)')\n",
        "\n",
        "ax.grid(color='black', linestyle='-', linewidth=0.1)\n",
        "\n",
        "abs_well = ax.scatter(X1, Y1, marker='^', s=100, color='lightgray', edgecolors='k')\n",
        "new_project = ax.scatter(-30, -20, marker = '+', s=100, color='black')     \n",
        "ax.set_xlim(Xmin, 5)\n",
        "ax.set_ylim(Ymin, 10)\n",
        "\n",
        "arr = ax.arrow(Xmin*0.9, Ymax*0.4, \n",
        "               7*np.cos(alpha*np.pi/180),\n",
        "               7*np.sin(alpha*np.pi/180), \n",
        "               head_width=3, \n",
        "               head_length=5, fc='k', ec='k')\n",
        "\n",
        "ax.legend([arr, abs_well, new_project], \n",
        "           ['Flow direction', \"Extraction well\", \"New project\"], \n",
        "           handler_map={mpatches.FancyArrow : HandlerPatch(patch_func=make_legend_arrow)},\n",
        "           loc='lower right')\n",
        "\n",
        "plt.show()"
      ],
      "execution_count": null,
      "outputs": [
        {
          "output_type": "display_data",
          "data": {
            "image/png": "[encoded data removed]",
            "text/plain": [
              "<Figure size 1008x360 with 4 Axes>"
            ]
          },
          "metadata": {
            "tags": [],
            "needs_background": "light"
          }
        }
      ]
    },
    {
      "cell_type": "markdown",
      "metadata": {
        "id": "E17dLe3MAeMw"
      },
      "source": [
        "Here is an example of how to read these figures. Let's consider a future geothermal installation project located in ($X = -30$ and $Y = -20$). These figures can be read as follow: 12% of the heat input coming from a new project located at the black cross, reach the abstraction well before 120 days (the simulation time considered in the current example). It also means that if an heat power of 14 kW is applied at the new project location, the extracted water at the abstraction well location will be reheated by 2 K (the threshold we considered in the current example) within 120 days.\n",
        "\n",
        "We can also directly calculate these values using previous functions:"
      ]
    },
    {
      "cell_type": "code",
      "metadata": {
        "id": "eH5gYdLGAeMz",
        "colab": {
          "base_uri": "https://localhost:8080/",
          "height": 52
        },
        "outputId": "b21d62e8-f341-4191-d934-0c601c61960e"
      },
      "source": [
        "# We define the location of the new project:\n",
        "X_test, Y_test = -30, -20\n",
        "\n",
        "print(\"Probability of capture at the location of the new project:\",\n",
        "      round(float(p_open(X_test, Y_test, X1, Y1, alpha, time, Qinj, \n",
        "                         b, va, n, C_m, C_w, alpha_L, alpha_T, lambda_m)),2),)\n",
        "\n",
        "print(\"Max. acceptable power at the location of the new project: \",\n",
        "      round(float(maxPowerOpenSystem(X_test, Y_test, X1, Y1, alpha, time, Qinj, DTmax,\n",
        "         b, va, n, C_m, C_w, alpha_L, alpha_T, lambda_m)/1000)), \"kW\")"
      ],
      "execution_count": null,
      "outputs": [
        {
          "output_type": "stream",
          "text": [
            "Probability of capture at the location of the new project: 0.12\n",
            "Max. acceptable power at the location of the new project:  14 kW\n"
          ],
          "name": "stdout"
        }
      ]
    },
    {
      "cell_type": "markdown",
      "metadata": {
        "id": "R1mGlST0AeM4"
      },
      "source": [
        "### Closed-systems"
      ]
    },
    {
      "cell_type": "markdown",
      "metadata": {
        "id": "aYYP1ei4AeM5"
      },
      "source": [
        "Several analytical solutions are available to calculate the thermal response of an aquifer to operation of closed-loop geothermal systems. Here, the analytical model used to calculate capture probability around such systems is based on the moving infinite line source theory initially  proposed by [Carslaw and Jaeger](https://link.springer.com/chapter/10.1007/978-3-319-48090-9_9). This semi-analytical model allows for the calculation the thermal response of a line source of infinite length along the vertical direction with a continuous heat flow rate q_tb per unit length of the BHE in a uniform advective-dispersive flow system. According to [Stauffer et al.](https://www.taylorfrancis.com/books/9780429098086), the moving infinite line source model considering dispersion (MILD) reads:\n",
        "\n",
        "$\\Delta T(x,y,t) = \\frac{q_{th}}{4 \\pi C_{m} \\sqrt{ D_{t,L} D_{t,T}}} \\text{exp}⁡[\\frac{u_{t} x}{2D_{t,L}}] \\int_{\\frac{x^{2}}{4D_{t,L} t} + \\frac{y^{2}}{4D_{t,T} t}}^{\\infty} \\text{exp}\\left(- \\Psi -(\\frac{x^{2}}{D_{t,L}} + \\frac{y^{2}}{D_{t,T}}) \\frac{u_{t}^{2}}{16 D_{t,L} \\Psi}\\right) \\frac{\\mathrm{d}\\Psi}{\\Psi}$\n",
        "\n",
        "with $u_{t} = \\frac{C_{w}n}{C_{m}}v_{a}$ and $D_{t,L/T} = \\frac{\\lambda _{m}}{C_{w}} + \\alpha _{L/T} u_{t}$\n",
        "\n",
        "To calculate probability fields upstream of heat extracting closed-loop systems, the MILD is rearranged. For this, again reverse flow is described by replacing $x$ with $-x$. In addition to that, $q_{th}$ is expressed as the power per unit length needed to reheat by $1 K$ the virtual Darcy flow rate (per unit length) crossing the BHE location:\n",
        "$q_{th} = KidC_{w}$\n",
        "\n",
        "where K is the hydraulic conductivity, i is the hydraulic gradient, and d represents the borehole diameter. This yields the probability field around a borehole located at the origin ($x=0$, $y=0$):\n",
        "\n",
        "$p_{BHE} (x,y,t) = \\frac{KidC_{w}}{4 \\pi C_{m} \\sqrt{ D_{t,L} D_{t,T}}} \\text{exp}⁡[\\frac{- u_{t} x}{2D_{t,L}}] \\int_{\\frac{x^{2}}{4D_{t,L} t} + \\frac{y^{2}}{4D_{t,T} t}}^{\\infty} \\text{exp}\\left(- \\Psi -(\\frac{x^{2}}{D_{t,L}} + \\frac{y^{2}}{D_{t,T}}) \\frac{u_{t}^{2}}{16 D_{t,L} \\Psi}\\right) \\frac{\\mathrm{d}\\Psi}{\\Psi}$\n",
        "\n",
        "Introducing:\n",
        "- $\\alpha $: the angle (degree) between the west-east diection and the direction of groundwater flow,\n",
        "- $X_{0}$ and $Y_{0}$: the location of the BHE,\n",
        "\n",
        "the MILD model is defined as follow:"
      ]
    },
    {
      "cell_type": "code",
      "metadata": {
        "id": "Kju3Xo1bAeM6"
      },
      "source": [
        "def MILSd(x, y, t, X0, Y0, P, va, n, b, C_m, C_w, alpha, alpha_L, alpha_T, lambda_m):\n",
        "    \"\"\"\n",
        "    This models gives the temperature disturbance in (x,y) caused by a closed borehole heat exanger located\n",
        "    in X0, Y0 with a power P\"\"\"\n",
        "    QL=P/b #power by length of the borehole\n",
        "    Dt = lambda_m/C_m\n",
        "    vt = va*n*C_w/C_m\n",
        "    Dx = Dt + alpha_L*vt \n",
        "    Dy = Dt + alpha_T*vt\n",
        "    \n",
        "    alpha_rad = -alpha*np.pi/180\n",
        "    x1 = x - X0                                                          \n",
        "    y1 = y - Y0 \n",
        "     \n",
        "    x2 = np.cos(alpha_rad)*x1 - np.sin(alpha_rad)*y1                  \n",
        "    y2 = np.sin(alpha_rad)*x1 + np.cos(alpha_rad)*y1\n",
        "\n",
        "    e_x = 0.001 #to avoid error calculation at the origin\n",
        "    if x2 == 0 and y2 == 0:\n",
        "      x2 = e_x\n",
        "    \n",
        "    b_inf = (((x2**2)/4/Dx/t)+((y2**2)/4/Dy/t))\n",
        "   \n",
        "    return QL*(1./4./np.pi/C_m/np.sqrt(Dx*Dy))*np.exp(vt*x2/2/Dx)*integrate.quad(\n",
        "        lambda psi: 1/psi*np.exp(-psi-((x2**2/Dx)+(y2**2/Dy))*(vt**2)/16/Dx/psi),b_inf,np.Inf)[0]\n",
        "\n",
        "# to use the Model over a grid:\n",
        "def MILSd_grid(xi, yi, t, X0, Y0, P, va, n, b, C_m, C_w, alpha, alpha_L, alpha_T, lambda_m):\n",
        "    \"\"\"\n",
        "    This function gives the temperature disturbance caused by a closed borehole heat exanger located\n",
        "    in X0, Y0 with a power P over a grid xi, yi\n",
        "    \"\"\"\n",
        "    DELTA_T = xi - xi #the result grid full of 0\n",
        "    \n",
        "    for i in range(len(xi)):\n",
        "        for j in range(len(yi)):\n",
        "            DELTA_T[i,j] = MILSd(xi[i,j], yi[i,j], t, X0, Y0, P, va, n, b, \n",
        "                                 C_m, C_w, alpha, alpha_L, alpha_T, lambda_m)\n",
        "    return DELTA_T\n",
        "\n",
        "# We adapt the model to calculate probabilities:\n",
        "def proba_closed(xi, yi, t, X0, Y0, d, va, n, b, C_m, C_w, alpha, alpha_L, alpha_T, lambda_m):\n",
        "    \"\"\"\n",
        "    This function gives the probability to reach a BHE located in X0, Y0 over a grid\n",
        "    \"\"\"\n",
        "    Qd = va*n*b*d\n",
        "    P_unit = Qd*C_w*1.\n",
        "    \n",
        "    return MILSd_grid(xi, yi, t, X0, Y0, P_unit, va, n, b, C_m, C_w, \n",
        "                      alpha+180, alpha_L, alpha_T, lambda_m)"
      ],
      "execution_count": null,
      "outputs": []
    },
    {
      "cell_type": "markdown",
      "metadata": {
        "id": "sTbD26OhAeNA"
      },
      "source": [
        "Now we choose some hydrogeological parameters to calculate the thermal impact and the probability of capture around a BHE. In addition, we consider that the BHE is located at the origin and has a power of 50 kW and a diamter of 1 m:"
      ]
    },
    {
      "cell_type": "code",
      "metadata": {
        "id": "QRi5Euf2AeNB",
        "colab": {
          "base_uri": "https://localhost:8080/",
          "height": 378
        },
        "outputId": "a07b9101-cc96-4677-8e03-1d5267c4f396"
      },
      "source": [
        "# We define the simulation time\n",
        "time = 120*24*3600\n",
        "\n",
        "# We define some parameters associated to the BHE \n",
        "X0, Y0 = 0, 0\n",
        "d = 1.                #Diameter of BHE in m\n",
        "Pi = 50000            #power in W\n",
        "\n",
        "# We define some hydrogeological parameters:\n",
        "alpha = float(35)     #groundwater flow angle\n",
        "K = float(0.001)      #permeability (m/s)\n",
        "b = float(100)        #aquifer thickness [m]\n",
        "grad_h = float(0.002) #hydraulic gradient\n",
        "n = float(0.1)        #effective porosity\n",
        " \n",
        "v0 = K*grad_h         #darcy velocity\n",
        "va = v0/n             #seepage velocity\n",
        "R = C_m/(n*C_w)       #retardation factor\n",
        "\n",
        "#definition of our grid from Xmin to Xmax, and from Ymin to Ymax\n",
        "Xmin = -20\n",
        "Xmax = 40\n",
        "xgrid_len = 100\n",
        "\n",
        "Ymin = -20\n",
        "Ymax = 40\n",
        "ygrid_len = 100\n",
        "\n",
        "#We create your grid of interest\n",
        "xi = np.linspace(Xmin, Xmax, xgrid_len)                                    \n",
        "yi = np.linspace(Ymin, Ymax, ygrid_len)                                    \n",
        "xi, yi = np.meshgrid(xi, yi)\n",
        "\n",
        "#We calculate the thermal impact\n",
        "closedDeltaT = MILSd_grid(xi,yi, time, X0, Y0, Pi,va, n, b, C_m, C_w, \n",
        "                     alpha, alpha_L, alpha_T, lambda_m)\n",
        "\n",
        "# We calculate the probability of capture over the grid:\n",
        "closedProba = proba_closed(xi, yi, time, X0, Y0, d, va, n, b, C_m, C_w, alpha, alpha_L, alpha_T, lambda_m)\n",
        "\n",
        "# We plot the result:\n",
        "fig, ax = plt.subplots(figsize=(10,6))\n",
        "\n",
        "# Thermal plume caused by the closed-loop system\n",
        "cf1 = ax.contourf(xi, yi, closedDeltaT, \n",
        "                 [1,2,3,4,5,6,7,8,9,10], \n",
        "                 cmap='OrRd', zorder = 2)\n",
        "fig.colorbar(cf1, label = \"Temperature disturbance (K)\")\n",
        "\n",
        "# Probability of capture around the closed-loop dsystem\n",
        "cf2 = ax.contourf(xi, yi, closedProba, \n",
        "                 [0.01, 0.1,0.2,0.3,0.4,0.5,0.6,0.7,0.8,0.9,1], \n",
        "                 cmap='PRGn_r', zorder = 1)\n",
        "fig.colorbar(cf2, label = \"Probability of capture\")\n",
        "\n",
        "BHE = ax.scatter(X0, Y0, marker='o', s=100, color='lightgray', edgecolors='k',  zorder=2)\n",
        "\n",
        "ax.set_aspect('equal')\n",
        "ax.grid(color='black', linestyle='-', linewidth=0.1)\n",
        "ax.set_xlim(Xmin, Xmax)\n",
        "ax.set_ylim(Ymin, Ymax)\n",
        "# We add an arrow to indicate the groundwater flow direction:\n",
        "arr = ax.arrow(Xmin*0.7, Ymax*0.7, \n",
        "               8*np.cos(alpha*np.pi/180),\n",
        "               8*np.sin(alpha*np.pi/180), \n",
        "               head_width=3, \n",
        "               head_length=5, fc='k', ec='k')\n",
        "\n",
        "# To add the flow direction in the Legend:\n",
        "plt.legend([arr, BHE], ['Flow direction', \"Borehole heat exchanger\"], \n",
        "           handler_map={mpatches.FancyArrow : HandlerPatch(patch_func=make_legend_arrow)})\n",
        "\n",
        "plt.show()"
      ],
      "execution_count": null,
      "outputs": [
        {
          "output_type": "display_data",
          "data": {
            "image/png": "[encoded data removed]",
            "text/plain": [
              "<Figure size 720x432 with 3 Axes>"
            ]
          },
          "metadata": {
            "tags": [],
            "needs_background": "light"
          }
        }
      ]
    },
    {
      "cell_type": "markdown",
      "metadata": {
        "id": "xSq7B-N_AeNF"
      },
      "source": [
        "Finally, the maximal acceptable heat power around the BHE is calulate as follows considering $\\Delta T_{max} = 2 K$:"
      ]
    },
    {
      "cell_type": "code",
      "metadata": {
        "id": "z7jsEcsyAeNG",
        "colab": {
          "base_uri": "https://localhost:8080/",
          "height": 324
        },
        "outputId": "a03eb946-a053-4465-d776-ecbb6ab60f38"
      },
      "source": [
        "epsilon = 1e-9  #This is a residual value for areas where is probability of capture is close to 0\n",
        "closedProba = np.where(closedProba > 0,closedProba, epsilon)\n",
        "\n",
        "Qd = va*n*d*b   #The Darcy flow around BHE with a diameter \"d\"\n",
        "DTmax = 2       #The acceptable temperature variation at the BHE location\n",
        "\n",
        "# Then we calculate the maximal acceptable power around the BHE\n",
        "maxPowerClosedExample = DTmax*Qd*C_w/closedProba\n",
        "\n",
        "proba_range_closed = [round(k/20 + 0.05,2) for k in range(20)]\n",
        "power_range_closed = [DTmax*Qd*C_w/(p*1000) for p in proba_range_closed[::-1]] #unit kW\n",
        "\n",
        "Xmax = 5\n",
        "Ymax = 10\n",
        "fig, axs = plt.subplots(1, 2,figsize=(13,5))\n",
        "ax = axs[0]\n",
        "ax.set_aspect('equal')\n",
        "ax.set_xlim(Xmin, Xmax)\n",
        "ax.set_ylim(Ymin, Ymax)\n",
        "\n",
        "# Probability of capture around the BHE\n",
        "cf1= ax.contourf(xi, yi, closedProba, \n",
        "                 proba_range_closed, \n",
        "                 cmap='PRGn_r')\n",
        "\n",
        "cb = fig.colorbar(cf1, ax = ax)\n",
        "cb.ax.set_ylabel('Probability of capture')\n",
        "\n",
        "ax.grid(color='black', linestyle='-', linewidth=0.1)\n",
        "\n",
        "# Location of the BHE\n",
        "BHE = ax.scatter(X0, Y0, marker='o', s=50, color='lightgray', edgecolors='k',  zorder=2)\n",
        "\n",
        "# Direction of the groundwater flow\n",
        "arr = ax.arrow(Xmin*0.9, Ymax*0.5, \n",
        "               5*np.cos(alpha*np.pi/180),\n",
        "               5*np.sin(alpha*np.pi/180), \n",
        "               head_width=1, \n",
        "               head_length=2, fc='k', ec='k')\n",
        "\n",
        "ax.legend([arr, BHE], \n",
        "           ['Flow direction', \"BHE\"], \n",
        "           handler_map={mpatches.FancyArrow : HandlerPatch(patch_func=make_legend_arrow)})\n",
        "\n",
        "ax = axs[1]\n",
        "ax.set_aspect('equal')\n",
        "ax.set_xlim(Xmin, Xmax)\n",
        "ax.set_ylim(Ymin, Ymax)\n",
        "\n",
        "# Probability of capture around the closed-loop system\n",
        "cf2= ax.contourf(xi, yi, maxPowerClosedExample/1000, \n",
        "                 power_range_closed,\n",
        "                 cmap='RdYlGn')\n",
        "\n",
        "cb = fig.colorbar(cf2, ax = ax)\n",
        "cb.ax.set_ylabel('Maximal acceptable power (kW)')\n",
        "\n",
        "ax.grid(color='black', linestyle='-', linewidth=0.1)\n",
        "\n",
        "# Location of the BHE\n",
        "BHE = ax.scatter(X0, Y0, marker='o', s=50, color='lightgray', edgecolors='k',  zorder=2)\n",
        "\n",
        "# Direction of the groundwater flow\n",
        "arr = ax.arrow(Xmin*0.9, Ymax*0.5, \n",
        "               5*np.cos(alpha*np.pi/180),\n",
        "               5*np.sin(alpha*np.pi/180), \n",
        "               head_width=1, \n",
        "               head_length=2, fc='k', ec='k')\n",
        "\n",
        "ax.legend([arr, BHE], \n",
        "           ['Flow direction', \"BHE\"], \n",
        "           handler_map={mpatches.FancyArrow : HandlerPatch(patch_func=make_legend_arrow)})\n",
        "\n",
        "plt.show()"
      ],
      "execution_count": null,
      "outputs": [
        {
          "output_type": "display_data",
          "data": {
            "image/png": "[encoded data removed]",
            "text/plain": [
              "<Figure size 936x360 with 4 Axes>"
            ]
          },
          "metadata": {
            "tags": [],
            "needs_background": "light"
          }
        }
      ]
    },
    {
      "cell_type": "markdown",
      "metadata": {
        "id": "LLmm6AJcAeNM"
      },
      "source": [
        "### Long term thermal impact and probability of capture around a multiple BHE installation"
      ]
    },
    {
      "cell_type": "markdown",
      "metadata": {
        "id": "0z0-iavIBH9I"
      },
      "source": [
        "In this last section, we illustrate how to apply this methodology to a multiple BHE installations. We use previous models to determine long term (30 years) thermal impact and probability of capture around the installation.\n",
        "\n",
        "After defining simulation time and aquifer properties, the installation properties are defined (location of BHEs, power and diameters). Then, we make a loop over BHEs to calculate the cumulative thermal impact and the total probability of capture:"
      ]
    },
    {
      "cell_type": "code",
      "metadata": {
        "id": "XRaO1k7xAeNN"
      },
      "source": [
        "###########################################################################\n",
        "#                             Simulation time                            ##\n",
        "###########################################################################\n",
        "long_term_period = 30*365*24*3600 #30 years in seconds\n",
        "\n",
        "###########################################################################\n",
        "#                             AQUIFER properties                         ##\n",
        "###########################################################################\n",
        "b = 100.            #aquifer thickness (m)\n",
        "n = 0.30            #aquifer porosity (-)\n",
        "va = 0.05/24./3600. #seepage velocity (m/s)\n",
        "alpha = 0           #angle between flow direction and x-axis\n",
        "\n",
        "###########################################################################\n",
        "#                         CLOSED-SYSTEM properties                       ##\n",
        "###########################################################################\n",
        "P0 = 5000 #individual boreholes power in W\n",
        "d = 1.    #BHE diameter\n",
        "\n",
        "BHES = [(0, 0, P0, d),\n",
        "        (0, 15, P0, d),\n",
        "        (0, -15, P0, d),\n",
        "        (0, 30, P0, d),\n",
        "        (0, -30, P0, d)] # BHEs locations and Power (X, Y, Power, BHE diameter)   \n",
        "\n",
        "###########################################################################\n",
        "#                 Windows properties and Grid of interest                ##   \n",
        "###########################################################################\n",
        "Xmax = 300\n",
        "Xmin= -Xmax\n",
        "Ymax = (Xmax-Xmin)/2         \n",
        "Ymin = -Ymax\n",
        "\n",
        "#We create our grid of interest\n",
        "xgrid_len = 100\n",
        "ygrid_len = 100\n",
        "xi = np.linspace(Xmin, Xmax, xgrid_len)                                    \n",
        "yi = np.linspace(Ymin, Ymax, ygrid_len)                                    \n",
        "xi, yi = np.meshgrid(xi, yi)\n",
        "\n",
        "###########################################################################\n",
        "#             Thermal impact and probability of capture                  ##   \n",
        "###########################################################################\n",
        "multipleClosedDeltaT = xi - xi  # we initialize the grid to zeros\n",
        "multipleClosedProba = xi - xi   # we initialize the grid to zeros\n",
        "\n",
        "for bhe in BHES:\n",
        "    x_bhe = bhe[0]\n",
        "    y_bhe = bhe[1]\n",
        "    P_bhe = bhe[2]\n",
        "    d_bhe = bhe[3]\n",
        "        \n",
        "    multipleClosedDeltaT += MILSd_grid(xi,yi, long_term_period, \n",
        "                                       x_bhe, y_bhe, P_bhe, va, \n",
        "                                       n, b, C_m, C_w, alpha, \n",
        "                                       alpha_L, alpha_T, lambda_m)\n",
        "    \n",
        "    multipleClosedProba += proba_closed(xi, yi, long_term_period, \n",
        "                                        x_bhe, y_bhe, d_bhe, va, \n",
        "                                        n, b, C_m, C_w, alpha, \n",
        "                                        alpha_L, alpha_T, lambda_m)\n",
        "    \n",
        "multipleClosedProba = np.where(multipleClosedProba < 1,multipleClosedProba, 1)"
      ],
      "execution_count": null,
      "outputs": []
    },
    {
      "cell_type": "markdown",
      "metadata": {
        "id": "TUSGfbKGB0Wh"
      },
      "source": [
        "After the calculation is made, we can plot the results:"
      ]
    },
    {
      "cell_type": "code",
      "metadata": {
        "id": "AWbAEvmgAeNT",
        "colab": {
          "base_uri": "https://localhost:8080/",
          "height": 378
        },
        "outputId": "410633f4-2545-41fe-a37a-004cbb98430b"
      },
      "source": [
        "# We plot the results:\n",
        "fig, ax = plt.subplots(figsize=(10,6))\n",
        "ax.set_aspect('equal')\n",
        "\n",
        "# Thermal plume caused by the closed-loop system\n",
        "cf1= ax.contourf(xi, yi, multipleClosedDeltaT, \n",
        "                 [1,2,3,4,5,6,7,8,9,10], \n",
        "                 cmap='OrRd', zorder = 1)\n",
        "\n",
        "fig.colorbar(cf1, label = \"Temperature disturbance (K)\")\n",
        "\n",
        "# Probability of capture around multiple closed-loop systems\n",
        "cf2= ax.contourf(xi, yi, multipleClosedProba, \n",
        "                 [1e-2,5e-2,1e-1,5e-1,1], \n",
        "                 cmap='PRGn_r', zorder = 0)\n",
        "fig.colorbar(cf2, label = \"Probability of capture\")\n",
        "\n",
        "ax.grid(color='black', linestyle='-', linewidth=0.1)\n",
        "\n",
        "BHE = ax.scatter([bhe[0] for bhe in BHES], [bhe[1] for bhe in BHES], marker='o', s=50, color='lightgray', edgecolors='k',  zorder=2)\n",
        "\n",
        "\n",
        "\n",
        "# We add an arrow to indicate the groundwater flow direction:\n",
        "arr = ax.arrow(Xmin*0.7, Ymax*0.7, \n",
        "               40*np.cos(alpha*np.pi/180),\n",
        "               20*np.sin(alpha*np.pi/180), \n",
        "               head_width=13, \n",
        "               head_length=15, fc='k', ec='k')\n",
        "\n",
        "# To add the flow direction in the Legend:\n",
        "plt.legend([arr, BHE], ['Flow direction', \"Borehole heat exchanger\"], \n",
        "           handler_map={mpatches.FancyArrow : HandlerPatch(patch_func=make_legend_arrow)})\n",
        "\n",
        "plt.show()"
      ],
      "execution_count": null,
      "outputs": [
        {
          "output_type": "display_data",
          "data": {
            "image/png": "[encoded data removed]",
            "text/plain": [
              "<Figure size 720x432 with 3 Axes>"
            ]
          },
          "metadata": {
            "tags": [],
            "needs_background": "light"
          }
        }
      ]
    },
    {
      "cell_type": "markdown",
      "metadata": {
        "id": "qsPqCYn6B4hu"
      },
      "source": [
        "Then, we can calculate the maximal acceptable power that can be exploited around the installation considering the probability of individual BHEs. Here we consider that the temperature alteration at each BHE should not exceed $\\Delta T_{max}$. Then, we have to make a loop over BHEs and store individual probabilities of capture fields:"
      ]
    },
    {
      "cell_type": "code",
      "metadata": {
        "id": "fAnV7RcUAeNY"
      },
      "source": [
        "# We initialize some matrix to zeros\n",
        "multipleClosedProba = xi - xi #The probability of capture around the installation\n",
        "MaxPowerMultplieClosed = xi -xi #The maximal acceptable power around the installation\n",
        "MaxPowerMultplieClosed += 10000000000 # We consider a very large value for initializing the calculation\n",
        "\n",
        "# We consider a maximum temperature difference caused by a new installation to 2K:\n",
        "DTmax = 2.\n",
        "\n",
        "# We make a loop on BHES\n",
        "for bhe in BHES:\n",
        "    x_bhe = bhe[0]\n",
        "    y_bhe = bhe[1]\n",
        "    P_bhe = bhe[2]\n",
        "    d_bhe = bhe[3]\n",
        "    \n",
        "    # we calculate the Darcy flow around the bhe\n",
        "    Qd_bhe = d_bhe*va*n*b\n",
        "    \n",
        "    # we calculate the probability of capture around the BHE\n",
        "    bhe_Proba = proba_closed(xi, yi, long_term_period, \n",
        "                                x_bhe, y_bhe, d_bhe, va, \n",
        "                                n, b, C_m, C_w, alpha, \n",
        "                                alpha_L, alpha_T, lambda_m)\n",
        "    \n",
        "    # The cumulative result (probability of capture) is calculated here:\n",
        "    multipleClosedProba += bhe_Proba\n",
        "    \n",
        "    # we calculate the maximal acceptable power around earch BHE\n",
        "    MaxPowerBHE = DTmax*Qd*C_w/bhe_Proba\n",
        "    \n",
        "    # The global maximal acceptable power is ajusted depending on the current value and the BHE result:\n",
        "    MaxPowerMultplieClosed = np.where(\n",
        "        MaxPowerMultplieClosed >= MaxPowerBHE, \n",
        "        MaxPowerBHE,MaxPowerMultplieClosed)"
      ],
      "execution_count": null,
      "outputs": []
    },
    {
      "cell_type": "markdown",
      "metadata": {
        "id": "dmH8cIXOAeNc"
      },
      "source": [
        "The final result is given below:"
      ]
    },
    {
      "cell_type": "code",
      "metadata": {
        "id": "fYZ-yN-sAeNd",
        "colab": {
          "base_uri": "https://localhost:8080/",
          "height": 378
        },
        "outputId": "95c0fe6f-b69e-4f89-a06a-a57bd364c0c2"
      },
      "source": [
        "Xmax = 50 #to adjust the scale\n",
        "\n",
        "fig, axs = plt.subplots(1, 2,figsize=(10,6))\n",
        "ax = axs[0]\n",
        "ax.set_aspect('equal')\n",
        "ax.set_xlim(Xmin, Xmax)\n",
        "ax.set_ylim(Ymin, Ymax)\n",
        "\n",
        "# Probability of capture\n",
        "cf1= ax.contourf(xi, yi, multipleClosedProba, \n",
        "                 [0.01, 0.02, 0.03, 0.04, 0.05, 0.06, 0.07, 0.08, 0.09, 0.1], \n",
        "                 cmap='PRGn_r')\n",
        "\n",
        "cb = fig.colorbar(cf1, ax = ax)\n",
        "cb.ax.set_ylabel('Probability of capture')\n",
        "\n",
        "ax.grid(color='black', linestyle='-', linewidth=0.1)\n",
        "\n",
        "# Location of BHEs\n",
        "BHE = ax.scatter([bhe[0] for bhe in BHES], [bhe[1] for bhe in BHES], \n",
        "                 marker='o', s=30, color='lightgray', edgecolors='k',  zorder=2)\n",
        "\n",
        "# We add an arrow to indicate the groundwater flow direction:\n",
        "arr = ax.arrow(Xmin*0.7, Ymax*0.7, \n",
        "               40*np.cos(alpha*np.pi/180),\n",
        "               20*np.sin(alpha*np.pi/180), \n",
        "               head_width=13, \n",
        "               head_length=15, fc='k', ec='k')\n",
        "\n",
        "ax.legend([arr, BHE], \n",
        "           ['Flow direction', \"BHE\"], \n",
        "           handler_map={mpatches.FancyArrow : HandlerPatch(patch_func=make_legend_arrow)})\n",
        "\n",
        "ax = axs[1]\n",
        "ax.set_aspect('equal')\n",
        "ax.set_xlim(Xmin, Xmax)\n",
        "ax.set_ylim(Ymin, Ymax)\n",
        "\n",
        "# Probability of capture around multiple closed-loop systems\n",
        "cf2= ax.contourf(xi, yi, MaxPowerMultplieClosed/1000, \n",
        "                 [0, 200, 400, 600, 800, 1000],\n",
        "                 cmap='RdYlGn')\n",
        "\n",
        "cb = fig.colorbar(cf2, ax = ax)\n",
        "cb.ax.set_ylabel('Maximal acceptable power (kW)')\n",
        "\n",
        "ax.grid(color='black', linestyle='-', linewidth=0.1)\n",
        "\n",
        "# Location of BHEs\n",
        "BHE = ax.scatter([bhe[0] for bhe in BHES], [bhe[1] for bhe in BHES], \n",
        "                 marker='o', s=30, color='lightgray', edgecolors='k',  zorder=2)\n",
        "\n",
        "# We add an arrow to indicate the groundwater flow direction:\n",
        "arr = ax.arrow(Xmin*0.7, Ymax*0.7, \n",
        "               40*np.cos(alpha*np.pi/180),\n",
        "               20*np.sin(alpha*np.pi/180), \n",
        "               head_width=13, \n",
        "               head_length=15, fc='k', ec='k')\n",
        "\n",
        "ax.legend([arr, BHE], \n",
        "           ['Flow direction', \"BHE\"], \n",
        "           handler_map={mpatches.FancyArrow : HandlerPatch(patch_func=make_legend_arrow)})\n",
        "plt.show()"
      ],
      "execution_count": null,
      "outputs": [
        {
          "output_type": "display_data",
          "data": {
            "image/png": "[encoded data removed]",
            "text/plain": [
              "<Figure size 720x432 with 4 Axes>"
            ]
          },
          "metadata": {
            "tags": [],
            "needs_background": "light"
          }
        }
      ]
    },
    {
      "cell_type": "markdown",
      "metadata": {
        "id": "Eb-TWFoVAeNh"
      },
      "source": [
        "## Conclusion"
      ]
    },
    {
      "cell_type": "markdown",
      "metadata": {
        "id": "fMx3cvlkAeNj"
      },
      "source": [
        "The methodology presented in this notebook is intended to prevent thermal interference between both open- and closed-loop systems. It relies on the theory of transfer functions in hydrogeology. Here, the application of this theory was extended to the calculation of the probability of thermal capture around neighbouring installations. It allows for the understanding of where the extracted heat is coming from and what the heat contribution of various neighbouring sources would be. By linking a thermal threshold with capture probability, this methodology allows us to continuously and spatially quantify the compatibility between existing and planned new geothermal installations.\n",
        "\n",
        "It should be noted that the presented methodology can be applied using any other analytical solutions depending on the aim of a study, scale (e.g. 2D, 3D) and the hydrogeological context. Finally, the probability of capture around geothermal systems can be determined using numerical models to take into account refined variations of flow directions and hydrogeological heterogeneities. "
      ]
    },
    {
      "cell_type": "markdown",
      "metadata": {
        "id": "e71bLfZ3AeNj"
      },
      "source": [
        "## Documentation and other resources"
      ]
    },
    {
      "cell_type": "markdown",
      "metadata": {
        "id": "DyK_ePqdAeNk"
      },
      "source": [
        "This notebook is based on a paper published by [Attard et al., (2020)](https://doi.org/10.1016/j.renene.2019.06.095) in *Renewable Energy*.\n",
        "\n",
        "A publication dedicated to this topic is also available in french [Éviter les interférences des échangeurs géothermiques](https://www.cerema.fr/fr/centre-ressources/boutique/eviter-interferences-echangeurs-geothermiques) on the Cerema website.\n",
        "\n",
        "For further details on mathematical techniques for obtaining transfer functions in hydrogeology, readers are referred to:\n",
        "- [Cornaton and Perrochet (2006a)](https://doi.org/10.1016/j.advwatres.2005.10.009)\n",
        "- [Cornaton and Perrochet (2006b)](https://doi.org/10.1016/j.advwatres.2005.10.010)\n",
        "\n",
        "Based on the analogy between the advection-dispersion equation for solute and heat transport, this theory was adopted by Milnes and Perrochet to assess the impact of thermal feedback and recycling within single geothermal well doublets [Milnes and Perrochet (2014)](https://doi.org/10.1007/s10040-012-0902-y).\n",
        "\n",
        "For further information on the shallow geothermal potential of cities and on the thermal impact of geothermal systems, readers are referred to: \n",
        "- [Bayer et al., (2019)](https://doi.org/10.1016/j.rser.2019.02.019)\n",
        "- [Pophillat et al., (2020a)](https://doi.org/10.1016/j.renene.2018.07.148)\n",
        "- [Pophillat et al., (2020b)](https://doi.org/10.1016/j.geothermics.2019.101721)"
      ]
    },
    {
      "cell_type": "markdown",
      "metadata": {
        "id": "PbvdDcsGAeNk"
      },
      "source": [
        "## Subscribe for further articles"
      ]
    },
    {
      "cell_type": "markdown",
      "metadata": {
        "id": "nQ_qLdtCAeNl"
      },
      "source": [
        "If you want to be informed by email when new articles are posted, you can subscribe [here](https://guillaumeattard.com/subscribe/)"
      ]
    }
  ]
}