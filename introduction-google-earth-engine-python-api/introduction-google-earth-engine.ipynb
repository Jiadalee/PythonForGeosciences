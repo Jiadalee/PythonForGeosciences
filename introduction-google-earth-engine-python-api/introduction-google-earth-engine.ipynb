{
  "nbformat": 4,
  "nbformat_minor": 0,
  "metadata": {
    "kernelspec": {
      "display_name": "Python 3",
      "language": "python",
      "name": "python3"
    },
    "language_info": {
      "codemirror_mode": {
        "name": "ipython",
        "version": 3
      },
      "file_extension": ".py",
      "mimetype": "text/x-python",
      "name": "python",
      "nbconvert_exporter": "python",
      "pygments_lexer": "ipython3",
      "version": "3.7.3"
    },
    "colab": {
      "name": "PFG-Introduction-to-the-Google-Earth-Engine-Python-API.ipynb",
      "provenance": [],
      "collapsed_sections": [],
      "include_colab_link": true
    }
  },
  "cells": [
    {
      "cell_type": "markdown",
      "metadata": {
        "id": "view-in-github",
        "colab_type": "text"
      },
      "source": [
        "<a href=\"https://colab.research.google.com/github/guiattard/PythonForGeosciences/blob/master/introduction-google-earth-engine-python-api/introduction-google-earth-engine.ipynb\" target=\"_parent\"><img src=\"https://colab.research.google.com/assets/colab-badge.svg\" alt=\"Open In Colab\"/></a>"
      ]
    },
    {
      "cell_type": "markdown",
      "metadata": {
        "id": "pdP_1JIOz-Qc"
      },
      "source": [
        "# Introduction to the Google Earth Engine Python API: data catalog exploration, static and interactive mapping"
      ]
    },
    {
      "cell_type": "markdown",
      "metadata": {
        "id": "eNMIFwTNz-Qe"
      },
      "source": [
        "by Guillaume Attard and Susanne Benz\n",
        "\n",
        "http://pythonforgeosciences.com\n",
        "\n",
        "(last update 22/05/2020)"
      ]
    },
    {
      "cell_type": "markdown",
      "metadata": {
        "id": "FR0JmxcXTOAC"
      },
      "source": [
        "![Map of the world from 1565 by Paolo Forlani](https://guillaumeattard.com/wp-content/uploads/2020/05/Google-Earth-Engine-Python-API-Guillaume-Attard.jpg)"
      ]
    },
    {
      "cell_type": "markdown",
      "metadata": {
        "id": "0i0f5XgOz-Qf"
      },
      "source": [
        "# Introduction"
      ]
    },
    {
      "cell_type": "markdown",
      "metadata": {
        "id": "tmMuorU7z-Qg"
      },
      "source": [
        "Within the last decade, a huge amount of geospatial data, such as satellite data (e.g. land surface temperatures, vegetation) or the output of large scale, even global models (e.g. wind speed, groundwater recharge), have become freely available from multiple national agencies and universities (e.g. NASA, USGS, NOAA, and ESA). These geospactial data are used every day by scientists and engineers of all fields, to predict weather, prevent disasters, secure water supply or study the consequences of climate change. When using these geospatial data, things fast becomes tricky and the following questions arise:\n",
        "- What data is available and where can we find it ? \n",
        "- How can we access these data?\n",
        "- How can we manipulate these petabytes of data?\n",
        "\n",
        "Well, since a couple of years you can answer all three questions with \"Google Earth Engine\" - A platform that allows online cloud-computation on a large varierty of global datasets. After singin up [here](https://earthengine.google.com/) with your google-account (might take a couple of hours to unlock), you can either type https://code.earthengine.google.com/ in your browser to play with their seemingly endless amount of geospatial datasets typing Javascripts. Or..., you can continue to read this post to learn how to manipulate these remote sensing data through a Python API.\n",
        "\n",
        "> *Google Earth Engine is a cloud-based platform for planetary-scale geospatial analysis that brings Google's massive computational capabilities to bear on a variety of high-impact societal issuesal capacity needed to utilize traditional supercomputers or large-scale commodity cloud computing resources.* [Golerick et al. 2017](https://www.sciencedirect.com/science/article/pii/S0034425717302900)\n",
        "\n",
        "In this article, an introduction to the GEE Python API is presented. After some setups and some exploration of the Earth Engine Data Catalog, we'll see how to handle geospatial datasets with pandas and make some plots with matplotlib. Particularly, we'll see how to get the timeseries of a variable on a region of interest. An application of this procedure will be done to extract Land Surface Temperature in an urban and a rural area near the city of Lyon (France) to illustrate the heat island effect. \n",
        "Then, we will focus on static mapping and a procedure to export the result in a geotiff file will be detailed. \n",
        "Finally, the folium library will be introduced to make interactive maps. In this last part, we'll see how to include some GEE datasets as tiles layers of a folium map."
      ]
    },
    {
      "cell_type": "markdown",
      "metadata": {
        "id": "nYooOE7Jyn_W"
      },
      "source": [
        "![Screenshot of the Javascript Google Earth Engine platform](https://guillaumeattard.com/wp-content/uploads/2020/05/code-earth-engine.png)"
      ]
    },
    {
      "cell_type": "markdown",
      "metadata": {
        "id": "_AlI9KLizZEz"
      },
      "source": [
        "*Screenshot of the Javascript google earth engine platform (https://code.earthengine.google.com/)*"
      ]
    },
    {
      "cell_type": "markdown",
      "metadata": {
        "id": "gHYhTkmLz-Q_"
      },
      "source": [
        "# Exploration of the Earth Engine Data Catalog"
      ]
    },
    {
      "cell_type": "markdown",
      "metadata": {
        "id": "PqwLKsWZz-RB"
      },
      "source": [
        "Have you ever thought that getting a meteorological dataset could be as easy as finding the nearest pizzeria? To convince you, go [here](https://developers.google.com/earth-engine/datasets/catalog) and play with the search bar and select the dataset you want to explore.\n",
        "\n",
        "Let's say that we need to know the elevation of a region, some soil properties (e.g. clay/sand/silt content) and some meteorological data (e.g. temperature, precipitation, evapotranspiration). Well, inside the Earth Engine Catalog we find:\n",
        "- global elevation with a resolution of 30m is available [here](https://developers.google.com/earth-engine/datasets/catalog/USGS_SRTMGL1_003),\n",
        "- [OpenLandMap datasets](https://developers.google.com/earth-engine/datasets/catalog/OpenLandMap_SOL_SOL_CLAY-WFRACTION_USDA-3A1A1A_M_v02) with some soil porperties with a resolution of 250m (e.g. clay, sand, and silt content) \n",
        "- temperature, precipitation and evapotranspiration datasets with different resolution. For example you can explore the [GRIDMET model data](https://developers.google.com/earth-engine/datasets/catalog/IDAHO_EPSCOR_GRIDMET) from the University of Idaho or for streight up satelite derived values look into the [MODIS Collections](https://developers.google.com/earth-engine/datasets/catalog/modis), etc.\n",
        "\n",
        "Of course the resolution, frequency, spatial and temporal extent as well as data source (e.g. satelite image, interpolated station data, or model output) vary from one dataset to another. Therefore, read the description carefully and make sure you know what kind of dataset you are selecting!\n",
        "\n",
        "To give you a global picture of what can be found in the Earth Engine Data Catalog, you can have a look at the word cloud below summarizing tags associated to available datasets.\n",
        "\n",
        "![Word cloud based on Earth Engine Data Catalog tags](https://guillaumeattard.com/wp-content/uploads/2020/05/earth-engine-data-catalog-word-cloud.png)\n"
      ]
    },
    {
      "cell_type": "markdown",
      "metadata": {
        "id": "-CgKaWqNz-Qj"
      },
      "source": [
        "# Installation of the earth-engine-api and start"
      ]
    },
    {
      "cell_type": "markdown",
      "metadata": {
        "id": "aEDozvLkV6fd"
      },
      "source": [
        "### Some setups"
      ]
    },
    {
      "cell_type": "markdown",
      "metadata": {
        "id": "luIBEeauz-Qk"
      },
      "source": [
        "First of all, the client earthengine api should be installed. It can be done properly using the documentation [here](https://developers.google.com/earth-engine/python_install), or directly using the following command from your notebook (You might uncomment this command below for the first run)."
      ]
    },
    {
      "cell_type": "code",
      "metadata": {
        "id": "th7Y66_Ez-Ql",
        "colab": {
          "base_uri": "https://localhost:8080/",
          "height": 1000
        },
        "outputId": "c98804a4-c510-49c3-89d2-128433e53cb6"
      },
      "source": [
        "!pip install earthengine-api --upgrade"
      ],
      "execution_count": null,
      "outputs": [
        {
          "output_type": "stream",
          "text": [
            "Collecting earthengine-api\n",
            "\u001b[?25l  Downloading https://files.pythonhosted.org/packages/7d/15/ad78e9968b3765c203af6c749ab7a53f66d19ebc6af84bc217916e828db0/earthengine-api-0.1.239.tar.gz (157kB)\n",
            "\u001b[K     |████████████████████████████████| 163kB 4.7MB/s \n",
            "\u001b[?25hRequirement already satisfied, skipping upgrade: future in /usr/local/lib/python3.6/dist-packages (from earthengine-api) (0.16.0)\n",
            "Requirement already satisfied, skipping upgrade: google-cloud-storage in /usr/local/lib/python3.6/dist-packages (from earthengine-api) (1.18.1)\n",
            "Collecting google-api-python-client>=1.12.1\n",
            "\u001b[?25l  Downloading https://files.pythonhosted.org/packages/f6/a2/8fc0294407cc464edf26265a7d2ec8253fa40fd49c2e1b35e8c67648534e/google_api_python_client-1.12.5-py2.py3-none-any.whl (61kB)\n",
            "\u001b[K     |████████████████████████████████| 61kB 7.1MB/s \n",
            "\u001b[?25hRequirement already satisfied, skipping upgrade: google-auth>=1.4.1 in /usr/local/lib/python3.6/dist-packages (from earthengine-api) (1.17.2)\n",
            "Requirement already satisfied, skipping upgrade: google-auth-httplib2>=0.0.3 in /usr/local/lib/python3.6/dist-packages (from earthengine-api) (0.0.4)\n",
            "Requirement already satisfied, skipping upgrade: httplib2<1dev,>=0.9.2 in /usr/local/lib/python3.6/dist-packages (from earthengine-api) (0.17.4)\n",
            "Requirement already satisfied, skipping upgrade: httplib2shim in /usr/local/lib/python3.6/dist-packages (from earthengine-api) (0.0.3)\n",
            "Requirement already satisfied, skipping upgrade: six in /usr/local/lib/python3.6/dist-packages (from earthengine-api) (1.15.0)\n",
            "Requirement already satisfied, skipping upgrade: google-resumable-media<0.5.0dev,>=0.3.1 in /usr/local/lib/python3.6/dist-packages (from google-cloud-storage->earthengine-api) (0.4.1)\n",
            "Requirement already satisfied, skipping upgrade: google-cloud-core<2.0dev,>=1.0.0 in /usr/local/lib/python3.6/dist-packages (from google-cloud-storage->earthengine-api) (1.0.3)\n",
            "Collecting google-api-core<2dev,>=1.21.0\n",
            "\u001b[?25l  Downloading https://files.pythonhosted.org/packages/2e/3d/d7af13040ab5b259994a4434ff03d68084a994e709bc8afa4bee1235310e/google_api_core-1.23.0-py2.py3-none-any.whl (91kB)\n",
            "\u001b[K     |████████████████████████████████| 92kB 5.8MB/s \n",
            "\u001b[?25hRequirement already satisfied, skipping upgrade: uritemplate<4dev,>=3.0.0 in /usr/local/lib/python3.6/dist-packages (from google-api-python-client>=1.12.1->earthengine-api) (3.0.1)\n",
            "Requirement already satisfied, skipping upgrade: pyasn1-modules>=0.2.1 in /usr/local/lib/python3.6/dist-packages (from google-auth>=1.4.1->earthengine-api) (0.2.8)\n",
            "Requirement already satisfied, skipping upgrade: setuptools>=40.3.0 in /usr/local/lib/python3.6/dist-packages (from google-auth>=1.4.1->earthengine-api) (50.3.0)\n",
            "Requirement already satisfied, skipping upgrade: rsa<5,>=3.1.4; python_version >= \"3\" in /usr/local/lib/python3.6/dist-packages (from google-auth>=1.4.1->earthengine-api) (4.6)\n",
            "Requirement already satisfied, skipping upgrade: cachetools<5.0,>=2.0.0 in /usr/local/lib/python3.6/dist-packages (from google-auth>=1.4.1->earthengine-api) (4.1.1)\n",
            "Requirement already satisfied, skipping upgrade: certifi in /usr/local/lib/python3.6/dist-packages (from httplib2shim->earthengine-api) (2020.6.20)\n",
            "Requirement already satisfied, skipping upgrade: urllib3 in /usr/local/lib/python3.6/dist-packages (from httplib2shim->earthengine-api) (1.24.3)\n",
            "Requirement already satisfied, skipping upgrade: pytz in /usr/local/lib/python3.6/dist-packages (from google-api-core<2dev,>=1.21.0->google-api-python-client>=1.12.1->earthengine-api) (2018.9)\n",
            "Requirement already satisfied, skipping upgrade: protobuf>=3.12.0 in /usr/local/lib/python3.6/dist-packages (from google-api-core<2dev,>=1.21.0->google-api-python-client>=1.12.1->earthengine-api) (3.12.4)\n",
            "Requirement already satisfied, skipping upgrade: requests<3.0.0dev,>=2.18.0 in /usr/local/lib/python3.6/dist-packages (from google-api-core<2dev,>=1.21.0->google-api-python-client>=1.12.1->earthengine-api) (2.23.0)\n",
            "Requirement already satisfied, skipping upgrade: googleapis-common-protos<2.0dev,>=1.6.0 in /usr/local/lib/python3.6/dist-packages (from google-api-core<2dev,>=1.21.0->google-api-python-client>=1.12.1->earthengine-api) (1.52.0)\n",
            "Requirement already satisfied, skipping upgrade: pyasn1<0.5.0,>=0.4.6 in /usr/local/lib/python3.6/dist-packages (from pyasn1-modules>=0.2.1->google-auth>=1.4.1->earthengine-api) (0.4.8)\n",
            "Requirement already satisfied, skipping upgrade: idna<3,>=2.5 in /usr/local/lib/python3.6/dist-packages (from requests<3.0.0dev,>=2.18.0->google-api-core<2dev,>=1.21.0->google-api-python-client>=1.12.1->earthengine-api) (2.10)\n",
            "Requirement already satisfied, skipping upgrade: chardet<4,>=3.0.2 in /usr/local/lib/python3.6/dist-packages (from requests<3.0.0dev,>=2.18.0->google-api-core<2dev,>=1.21.0->google-api-python-client>=1.12.1->earthengine-api) (3.0.4)\n",
            "Building wheels for collected packages: earthengine-api\n",
            "  Building wheel for earthengine-api (setup.py) ... \u001b[?25l\u001b[?25hdone\n",
            "  Created wheel for earthengine-api: filename=earthengine_api-0.1.239-cp36-none-any.whl size=184982 sha256=95436c981964e42b563b6896ec83be6baa90bc8a199f6d8bd2d46700d7a48c0f\n",
            "  Stored in directory: /root/.cache/pip/wheels/e2/88/37/d2d79247bf71cb7381d358e97f6743f15351b410f49d933180\n",
            "Successfully built earthengine-api\n",
            "\u001b[31mERROR: google-api-core 1.23.0 has requirement google-auth<2.0dev,>=1.21.1, but you'll have google-auth 1.17.2 which is incompatible.\u001b[0m\n",
            "Installing collected packages: google-api-core, google-api-python-client, earthengine-api\n",
            "  Found existing installation: google-api-core 1.16.0\n",
            "    Uninstalling google-api-core-1.16.0:\n",
            "      Successfully uninstalled google-api-core-1.16.0\n",
            "  Found existing installation: google-api-python-client 1.7.12\n",
            "    Uninstalling google-api-python-client-1.7.12:\n",
            "      Successfully uninstalled google-api-python-client-1.7.12\n",
            "  Found existing installation: earthengine-api 0.1.238\n",
            "    Uninstalling earthengine-api-0.1.238:\n",
            "      Successfully uninstalled earthengine-api-0.1.238\n",
            "Successfully installed earthengine-api-0.1.239 google-api-core-1.23.0 google-api-python-client-1.12.5\n"
          ],
          "name": "stdout"
        },
        {
          "output_type": "display_data",
          "data": {
            "application/vnd.colab-display-data+json": {
              "pip_warning": {
                "packages": [
                  "google"
                ]
              }
            }
          },
          "metadata": {
            "tags": []
          }
        }
      ]
    },
    {
      "cell_type": "markdown",
      "metadata": {
        "id": "HfmhFp-Zz-Qv"
      },
      "source": [
        "Then, we can import the earthengine library and authenticate with a google account. After running the following cell, a new windows should open to give you a token associated to your google account (If no windows opens, just click the resulting link). Just copy and past the token into the empty cell poping up after the run."
      ]
    },
    {
      "cell_type": "code",
      "metadata": {
        "id": "VmPPaKvAz-Qv",
        "colab": {
          "base_uri": "https://localhost:8080/",
          "height": 180
        },
        "outputId": "81c6c335-21ec-49a8-ddd7-137ae571fbb3"
      },
      "source": [
        "import ee\n",
        "ee.Authenticate()"
      ],
      "execution_count": null,
      "outputs": [
        {
          "output_type": "stream",
          "text": [
            "To authorize access needed by Earth Engine, open the following URL in a web browser and follow the instructions. If the web browser does not start automatically, please manually browse the URL below.\n",
            "\n",
            "    https://accounts.google.com/o/oauth2/auth?client_id=517222506229-vsmmajv00ul0bs7p89v5m89qs8eb9359.apps.googleusercontent.com&scope=https%3A%2F%2Fwww.googleapis.com%2Fauth%2Fearthengine+https%3A%2F%2Fwww.googleapis.com%2Fauth%2Fdevstorage.full_control&redirect_uri=urn%3Aietf%3Awg%3Aoauth%3A2.0%3Aoob&response_type=code&code_challenge=4lTofC8AA5NUy1X0tP2QD2glC-XKNWBoSoRhAyRLWgs&code_challenge_method=S256\n",
            "\n",
            "The authorization workflow will generate a code, which you should paste in the box below. \n",
            "Enter verification code: 4/5gFR5fODpy2J3p1wBhDhLTh74T-4Pm964BmxYe06w877ELxTyNq_jME\n",
            "\n",
            "Successfully saved authorization token.\n"
          ],
          "name": "stdout"
        }
      ]
    },
    {
      "cell_type": "markdown",
      "metadata": {
        "id": "kdauj8GFz-Q3"
      },
      "source": [
        "Now we can initialize the API:"
      ]
    },
    {
      "cell_type": "code",
      "metadata": {
        "id": "KKolLJJ5z-Q4"
      },
      "source": [
        "ee.Initialize()"
      ],
      "execution_count": null,
      "outputs": []
    },
    {
      "cell_type": "markdown",
      "metadata": {
        "id": "Jdr_Z4gQz-Q-"
      },
      "source": [
        "Congratulations ! Now we can play with global datasets =)"
      ]
    },
    {
      "cell_type": "markdown",
      "metadata": {
        "id": "3fb5FW64WG6q"
      },
      "source": [
        "### Start to play with collections"
      ]
    },
    {
      "cell_type": "markdown",
      "metadata": {
        "id": "BFu69_vZz-RC"
      },
      "source": [
        "In the Earth Engine Catalog, datasets can have different shapes. Basically, we work with:\n",
        "- *features* which are geometric objects with a list of properties. For example, a watershed with some properties such as *name*, *area*, is a feature. \n",
        "- *image* which are like features, but may include several bands. For example, The ground elevation given by the USGS [here](https://developers.google.com/earth-engine/datasets/catalog/USGS_SRTMGL1_003) is an image.\n",
        "- *collections* which are group of features or images. For example, the [Global Administrative Unit Layers](https://developers.google.com/earth-engine/datasets/catalog/FAO_GAUL_2015_level0) giving administrative boundaries is a *featureCollection* and the [MODIS Land Surface Temperature](https://developers.google.com/earth-engine/datasets/catalog/MODIS_006_MOD11A1) dataset is an imageCollection.\n",
        "\n",
        "If you want to know more about different data models, you may want to visit the [earth engine user guide](https://developers.google.com/earth-engine) \n",
        "\n",
        "In the following, we work with the MODIS [Land Cover (LC)](https://developers.google.com/earth-engine/datasets/catalog/MODIS_006_MCD12Q1), the MODIS [Land Surface Temperature (LST)](https://developers.google.com/earth-engine/datasets/catalog/MODIS_006_MOD11A1) and with the USGS [Ground Elevation (ELV)](https://developers.google.com/earth-engine/datasets/catalog/USGS_SRTMGL1_003) which are *imageCollections*. The descriptions provide us with all the information we need to import and manipulate these datasets: the availability, the provider, the Earth Engine Snippet, and the available bands associated to the collection. \n",
        "\n",
        "Now, to import the LC, LST and ELV collections, we can copy and paste the Earth Engine Snippets:"
      ]
    },
    {
      "cell_type": "code",
      "metadata": {
        "id": "EAsGAadCz-RC"
      },
      "source": [
        "# import a land cover Collection\n",
        "LC = ee.ImageCollection('MODIS/006/MCD12Q1')\n",
        "\n",
        "# import a land surface temperature Collection\n",
        "LST = ee.ImageCollection('MODIS/006/MOD11A1')\n",
        "\n",
        "# import a ground elevation Image\n",
        "ELV = ee.Image('USGS/SRTMGL1_003')"
      ],
      "execution_count": null,
      "outputs": []
    },
    {
      "cell_type": "markdown",
      "metadata": {
        "id": "xeDw5Lnlz-RI"
      },
      "source": [
        "All of these images come in a different resolution, frequency, and possibly projection, ranging from daily images in a 1 km resolution for LST (hence an ee.ImageCollection - a collection of several ee.Images) to a sinlge image giving data for the year 2000 in a 30 m resolution for the ELV. While we need to have an eye on the frequency, GEE takes care of resolution and projection by resampling and reprojecting all data we are going to work with to a common projection. We can define the resolution (called scale in GEE) whenever necessary and of course have the option to force no reprojection.\n",
        "\n",
        "As you can see in the description of the datasets, they include several sets of information stored in several bands. For example, these bands are associated to the LST collection:\n",
        "- LST_Day_1km: Daytime Land Surface Temperature\n",
        "- Day_view_time: Local time of day observation,\n",
        "- LST_Night_1km: Nighttime Land Surface Temperature,\n",
        "- ...\n",
        "\n",
        "The description page of the collection tells us that the name of the band associted to the daytime LST is 'LST_Day_1km' which is in Kelvin. In addition, values are ranging from 7500 to 65535 with a corrective scale of 0.02. \n",
        "\n",
        "Then, we have to select the bands we want to work with. Therefore, I decide to focus on daytime LST so we select the daytime band with the .select() command. We also need to filter the collection on the period of time we want. We can do that using the *filterDate()* method."
      ]
    },
    {
      "cell_type": "code",
      "metadata": {
        "id": "D2GwABunz-RJ"
      },
      "source": [
        "# initial date of interest - inclusive\n",
        "i_date = '2018-01-01'\n",
        "\n",
        "# final date of interest - exclusive\n",
        "f_date = '2020-01-01' \n",
        "\n",
        "# selection of appropriate bands and dates for LST\n",
        "LST = LST.select('LST_Day_1km').filterDate(i_date, f_date)"
      ],
      "execution_count": null,
      "outputs": []
    },
    {
      "cell_type": "markdown",
      "metadata": {
        "id": "ShL67C7Sz-RP"
      },
      "source": [
        "Now, we can either upload existing shape files or define some points with longitude and latitude coordinates where we want know more about Land cover, Land Surface Temperature and Elevation. For example, let's take two:\n",
        "- The first one in the urban area of Lyon (France)\n",
        "- The second one, 30 kilometers away the city center, in a rural area"
      ]
    },
    {
      "cell_type": "code",
      "metadata": {
        "id": "RkzKpS9Qz-RQ"
      },
      "source": [
        "# Definition of the urban location of interest with a point\n",
        "u_lon = 4.8148 #longitude of the location of interest\n",
        "u_lat = 45.7758 #latitude of the location of interest\n",
        "u_poi = ee.Geometry.Point(u_lon, u_lat)\n",
        "\n",
        "# Definition of the rural location of interest with a point\n",
        "r_lon = 5.175964 #longitude of the location of interest\n",
        "r_lat = 45.574064 #latitude of the location of interest\n",
        "r_poi = ee.Geometry.Point(r_lon, r_lat)"
      ],
      "execution_count": null,
      "outputs": []
    },
    {
      "cell_type": "markdown",
      "metadata": {
        "id": "32QgNn0Lz-RZ"
      },
      "source": [
        "We can easily get information about our region/point of interest using following methods (to get more information about available methods and required arguments, please visit the API documentation [here](https://developers.google.com/earth-engine/api_docs)):\n",
        "- *sample()*: samples the image (does NOT work for an image collection - we'll talk about sampeling an image collection later) according to a given geometry and a scale (in meters) of the projection to sample in. It restuns a featureCollection.\n",
        "- *first()*: returns the first entry of the collection,\n",
        "- *get()*: to select the appropriate band of your Image/Collection,\n",
        "- *getInfo()*: returns the value, not just the object.\n",
        "\n",
        "Then we can evaluation the ground elevation and LST around our point of interest using the following commands. Please be careful when evaluating LST. According to the [dataset description](https://developers.google.com/earth-engine/datasets/catalog/MODIS_006_MOD11A1), the value should be corrected by a factor of 0.02 to get Kelvins (do not forget the conversion). To get the mean mulit-annual daytime LST, we use the *mean()* method on the LST ImageCollection. (The following run might take some time: about 15-20 seconds for me)"
      ]
    },
    {
      "cell_type": "code",
      "metadata": {
        "id": "6pAMa_w7z-RZ",
        "colab": {
          "base_uri": "https://localhost:8080/",
          "height": 71
        },
        "outputId": "6c43f060-f2ba-46c0-dcb4-5cc75e376238"
      },
      "source": [
        "scale = 1000 #scale in meters\n",
        "\n",
        "# Print the elevation near Lyon (France)\n",
        "elv = ELV.sample(u_poi, scale).first().get('elevation').getInfo()\n",
        "print('Ground elevation around the point:', elv, 'm')\n",
        "\n",
        "# Print the daytime LST near Lyon (France)\n",
        "# To take the mean value of the LST on the collection, we use the .mean() method:\n",
        "lst = LST.mean().sample(u_poi, scale).first().get('LST_Day_1km').getInfo()\n",
        "print('Average daytime LST around the point:', round(lst*0.02 -273.15,2), '°C')\n",
        "\n",
        "# Print the land cover type around the point:\n",
        "lct = LC.first().sample(u_poi, scale).first().get('LC_Type1').getInfo()\n",
        "print('The land cover value around the point is:', lct)"
      ],
      "execution_count": null,
      "outputs": [
        {
          "output_type": "stream",
          "text": [
            "Ground elevation around the point: 196 m\n",
            "Average daytime LST around the point: 23.63 °C\n",
            "The land cover value around the point is: 13\n"
          ],
          "name": "stdout"
        }
      ]
    },
    {
      "cell_type": "markdown",
      "metadata": {
        "id": "nqZ_pd4zz-Rf"
      },
      "source": [
        "Going back to the band description of the LC dataset, we see that a LC value of \"13\" conrresponds to an urban land. You can run the above cells with the rural point coordinates if you want to notice a difference."
      ]
    },
    {
      "cell_type": "markdown",
      "metadata": {
        "id": "foVf-2A-z-Rg"
      },
      "source": [
        "## Get some time series"
      ]
    },
    {
      "cell_type": "markdown",
      "metadata": {
        "id": "Zx8EtTtgz-Ri"
      },
      "source": [
        "Now that you see we can get geospatial information about a place of interest pretty easily, you may want to get some timeseries, probably make some charts and draw get statistics about a place. Hence, we import the data at the given locations using the *getRegion()* method."
      ]
    },
    {
      "cell_type": "code",
      "metadata": {
        "id": "EB8-hVriz-Rj",
        "colab": {
          "base_uri": "https://localhost:8080/",
          "height": 127
        },
        "outputId": "812626f2-0748-4ff3-d956-4c13f557d199"
      },
      "source": [
        "#here is the buffer zone we consider around each point : 1000m\n",
        "buffer_points = 1000 \n",
        "\n",
        "# We get the data for the point in urban area\n",
        "LST_u_poi = LST.getRegion(u_poi, buffer_points).getInfo()\n",
        "# We get the data for the point in rural area\n",
        "LST_r_poi = LST.getRegion(r_poi, buffer_points).getInfo() \n",
        "\n",
        "LST_u_poi[:5]"
      ],
      "execution_count": null,
      "outputs": [
        {
          "output_type": "execute_result",
          "data": {
            "text/plain": [
              "[['id', 'longitude', 'latitude', 'time', 'LST_Day_1km'],\n",
              " ['2013_01_01', 4.810478346460038, 45.77365530231022, 1356998400000, None],\n",
              " ['2013_01_02', 4.810478346460038, 45.77365530231022, 1357084800000, None],\n",
              " ['2013_01_03', 4.810478346460038, 45.77365530231022, 1357171200000, None],\n",
              " ['2013_01_04', 4.810478346460038, 45.77365530231022, 1357257600000, None]]"
            ]
          },
          "metadata": {
            "tags": []
          },
          "execution_count": 7
        }
      ]
    },
    {
      "cell_type": "markdown",
      "metadata": {
        "id": "mao_O22Mz-Rn"
      },
      "source": [
        "Printing the first 5 lines of the result shows that we now have arrays full of data. We now define a function to transform this array into a pandas Dataframe which is much more convenient to manipulate."
      ]
    },
    {
      "cell_type": "code",
      "metadata": {
        "id": "avRwd0j0z-Ro"
      },
      "source": [
        "import pandas as pd\n",
        "\n",
        "def ee_array_to_df(arr, band):\n",
        "    \"\"\"\n",
        "    We create a function with an array as input\n",
        "    We return a pandas df\n",
        "    \"\"\"\n",
        "    df = pd.DataFrame(arr)\n",
        "    \n",
        "    # we rearrange the header\n",
        "    headers = df.iloc[0]\n",
        "    df = pd.DataFrame(df.values[1:], columns = headers)\n",
        "\n",
        "    # we remove raws without data inside:\n",
        "    df = df[['longitude', 'latitude', 'time', band]].dropna()\n",
        "    \n",
        "    # We converr the data to numeric values\n",
        "    df[band] = pd.to_numeric(df[band], errors='coerce')\n",
        "    \n",
        "    # We also convert the Time filed into a datetime\n",
        "    df['datetime'] = pd.to_datetime(df['time'], unit='ms')\n",
        "    \n",
        "    # We keep the columns we want\n",
        "    df = df[['time','datetime', band]]\n",
        "    \n",
        "    return df"
      ],
      "execution_count": null,
      "outputs": []
    },
    {
      "cell_type": "markdown",
      "metadata": {
        "id": "At1KKZbMz-Rw"
      },
      "source": [
        "We apply this function to get the two timeseries we want (and we print one):"
      ]
    },
    {
      "cell_type": "code",
      "metadata": {
        "id": "QmdsEYVtz-Ry",
        "colab": {
          "base_uri": "https://localhost:8080/",
          "height": 309
        },
        "outputId": "c1949f87-05e5-46af-bc86-a5aea76f3d3d"
      },
      "source": [
        "LSTdf_urban = ee_array_to_df(LST_u_poi,'LST_Day_1km')\n",
        "\n",
        "#Do not forget that the LST is corrected with a scale of 0.02.\n",
        "#So we convert the appropriate field of the dataframe to get temperature in celcius:\n",
        "LSTdf_urban['LST_Day_1km'] = 0.02*LSTdf_urban['LST_Day_1km'] - 273.15\n",
        "\n",
        "#We do the same for the rural point:\n",
        "LSTdf_rural = ee_array_to_df(LST_r_poi,'LST_Day_1km')\n",
        "LSTdf_rural['LST_Day_1km'] = 0.02*LSTdf_rural['LST_Day_1km'] - 273.15 \n",
        "\n",
        "LSTdf_urban.head()"
      ],
      "execution_count": null,
      "outputs": [
        {
          "output_type": "execute_result",
          "data": {
            "text/html": [
              "<div>\n",
              "<style scoped>\n",
              "    .dataframe tbody tr th:only-of-type {\n",
              "        vertical-align: middle;\n",
              "    }\n",
              "\n",
              "    .dataframe tbody tr th {\n",
              "        vertical-align: top;\n",
              "    }\n",
              "\n",
              "    .dataframe thead th {\n",
              "        text-align: right;\n",
              "    }\n",
              "</style>\n",
              "<table border=\"1\" class=\"dataframe\">\n",
              "  <thead>\n",
              "    <tr style=\"text-align: right;\">\n",
              "      <th></th>\n",
              "      <th>time</th>\n",
              "      <th>datetime</th>\n",
              "      <th>LST_Day_1km</th>\n",
              "    </tr>\n",
              "  </thead>\n",
              "  <tbody>\n",
              "    <tr>\n",
              "      <th>15</th>\n",
              "      <td>1358294400000</td>\n",
              "      <td>2013-01-16</td>\n",
              "      <td>-1.49</td>\n",
              "    </tr>\n",
              "    <tr>\n",
              "      <th>21</th>\n",
              "      <td>1358812800000</td>\n",
              "      <td>2013-01-22</td>\n",
              "      <td>6.47</td>\n",
              "    </tr>\n",
              "    <tr>\n",
              "      <th>25</th>\n",
              "      <td>1359158400000</td>\n",
              "      <td>2013-01-26</td>\n",
              "      <td>0.33</td>\n",
              "    </tr>\n",
              "    <tr>\n",
              "      <th>29</th>\n",
              "      <td>1359504000000</td>\n",
              "      <td>2013-01-30</td>\n",
              "      <td>11.93</td>\n",
              "    </tr>\n",
              "    <tr>\n",
              "      <th>30</th>\n",
              "      <td>1359590400000</td>\n",
              "      <td>2013-01-31</td>\n",
              "      <td>5.13</td>\n",
              "    </tr>\n",
              "  </tbody>\n",
              "</table>\n",
              "</div>"
            ],
            "text/plain": [
              "0            time   datetime  LST_Day_1km\n",
              "15  1358294400000 2013-01-16        -1.49\n",
              "21  1358812800000 2013-01-22         6.47\n",
              "25  1359158400000 2013-01-26         0.33\n",
              "29  1359504000000 2013-01-30        11.93\n",
              "30  1359590400000 2013-01-31         5.13"
            ]
          },
          "metadata": {
            "tags": []
          },
          "execution_count": 9
        }
      ]
    },
    {
      "cell_type": "markdown",
      "metadata": {
        "id": "uj2BKj-Gz-R6"
      },
      "source": [
        "Now that we have our data in a good shape, we can easily make plots and compare the trends. As Land Surface Temperature has a seasonality influence, we expect that data looking something like $LST(t) = LST_{0} (1 + sin(\\omega t + \\phi))$\n",
        "\n",
        "Consequently, on the top of the data scatter plot, we plot the fitting curve using the scipy library:"
      ]
    },
    {
      "cell_type": "code",
      "metadata": {
        "id": "9MBs1zkzz-R7",
        "colab": {
          "base_uri": "https://localhost:8080/",
          "height": 152
        },
        "outputId": "03af0d09-16b8-4426-cc9d-7467f913caad"
      },
      "source": [
        "import matplotlib.pyplot as plt\n",
        "import numpy as np\n",
        "from scipy import optimize\n",
        "%matplotlib inline\n",
        "\n",
        "# Fitting Curves:\n",
        "## first, we extract x values (times) from our dfs\n",
        "x_data_u = np.asanyarray(LSTdf_urban['time'].apply(float)) #urban\n",
        "x_data_r = np.asanyarray(LSTdf_rural['time'].apply(float)) #rural\n",
        "\n",
        "## Secondly, we extract y values (LST) from our dfs\n",
        "y_data_u = np.asanyarray(LSTdf_urban['LST_Day_1km'].apply(float)) #urban\n",
        "y_data_r = np.asanyarray(LSTdf_rural['LST_Day_1km'].apply(float)) #rural\n",
        "\n",
        "## Then, we define the fitting function with parameters a, b, c, d:\n",
        "def fit_func(x, a, b, c):\n",
        "    return a*(np.sin(b*x + c) + 1)\n",
        "\n",
        "## We optimize the parameters using a good start p0\n",
        "params_u, params_covariance_u = optimize.curve_fit(fit_func, x_data_u, y_data_u, p0 = [20., 0.002*np.pi/(365.*24.*3600.), 350])\n",
        "params_r, params_covariance_r = optimize.curve_fit(fit_func, x_data_r, y_data_r, p0 = [20., 0.002*np.pi/(365.*24.*3600.), 350])\n",
        "\n",
        "# Subplots\n",
        "fig, ax = plt.subplots(figsize=(21, 9))\n",
        "\n",
        "# We add scatter plots\n",
        "ax.scatter(LSTdf_urban['datetime'], LSTdf_urban['LST_Day_1km'], \n",
        "           c = 'black', alpha = 0.2, label = 'Urban (data)')\n",
        "ax.scatter(LSTdf_rural['datetime'], LSTdf_rural['LST_Day_1km'], \n",
        "           c = 'green', alpha = 0.35, label = 'Rural (data)')\n",
        "\n",
        "# We add fitting curves\n",
        "ax.plot(LSTdf_urban['datetime'], fit_func(x_data_u, params_u[0], params_u[1], params_u[2]), \n",
        "        label='Urban (fitted)', color = 'black', lw = 2.5)\n",
        "ax.plot(LSTdf_rural['datetime'], fit_func(x_data_r, params_r[0], params_r[1], params_r[2]), \n",
        "        label='Rural (fitted)', color = 'green', lw = 2.5)\n",
        "\n",
        "# We add some parameters\n",
        "ax.set_title('Daytime Land Surface Tempearture near Lyon', fontsize = 16)\n",
        "ax.set_xlabel('Date', fontsize = 14)\n",
        "ax.set_ylabel('Temperature [K]', fontsize = 14)\n",
        "ax.set_ylim(-5, 40)\n",
        "ax.grid(lw = 0.2)\n",
        "ax.legend(fontsize = 14, loc = 'lower right')\n",
        "\n",
        "plt.show()"
      ],
      "execution_count": null,
      "outputs": [
        {
          "output_type": "display_data",
          "data": {
            "image/png": "[encoded data removed]",
            "text/plain": [
              "<Figure size 1512x648 with 1 Axes>"
            ]
          },
          "metadata": {
            "tags": [],
            "needs_background": "light"
          }
        }
      ]
    },
    {
      "cell_type": "markdown",
      "metadata": {
        "id": "hwW_b9qJz-SA"
      },
      "source": [
        "# Static mapping of Land Surface Temperature and Ground Elevation"
      ]
    },
    {
      "cell_type": "markdown",
      "metadata": {
        "id": "g2YmItWSLzbx"
      },
      "source": [
        "### Get a static map"
      ]
    },
    {
      "cell_type": "markdown",
      "metadata": {
        "id": "Vnm0n0VRz-SC"
      },
      "source": [
        "Now, we want to get static maps of Land surface Temperature and Ground Elevation around a region of interest. We define this region of interest with a rectangle around France using lower left and toper right corners coordinates (longitude and latitude)."
      ]
    },
    {
      "cell_type": "code",
      "metadata": {
        "id": "MDZw4b__z-SD"
      },
      "source": [
        "# Definition of a region of interest with a rectangle\n",
        "#l_left = [-6.1, 40.62] # lower left corner of the rectangle\n",
        "#t_right = [10.07, 52.73] # toper right corner of the rectangle\n",
        "l_left = [4.773761, 45.692316] # lower left corner of the rectangle\n",
        "t_right = [4.965303, 45829523] # toper right corner of the rectangle\n",
        "\n",
        "roi = ee.Geometry.Rectangle([l_left, t_right]) # region of interest"
      ],
      "execution_count": null,
      "outputs": []
    },
    {
      "cell_type": "markdown",
      "metadata": {
        "id": "P2SvB5IMz-SI"
      },
      "source": [
        "Also, we have to convert the LST ImageCollection into an Image, for example by taking the mean value of each pixel over the period of interest. And we convert the value of pixels into Celsius:"
      ]
    },
    {
      "cell_type": "code",
      "metadata": {
        "id": "ZwjyWD64z-SL"
      },
      "source": [
        "# ImageCollection to Image using the mean() method:\n",
        "LST_im = LST.mean()\n",
        "\n",
        "# Operation to take into account the scale factor:\n",
        "LST_im = LST_im.select('LST_Day_1km').multiply(0.02)\n",
        "\n",
        "# Kelvin -> Celsius\n",
        "LST_im = LST_im.select('LST_Day_1km').add(-273.15)"
      ],
      "execution_count": null,
      "outputs": []
    },
    {
      "cell_type": "markdown",
      "metadata": {
        "id": "iIgvXoyrz-SP"
      },
      "source": [
        "Then, we use the *getThumbUrl()* method to get an url and we can use the IPython librairy to plot the mean daytime LST map on the region of interest. Blue represents the coldest areas (< 10°C) and red represents the warmest areas (>30°C). (For me, the following run is quite long and the image can pop some times after the task appears to be finished)"
      ]
    },
    {
      "cell_type": "code",
      "metadata": {
        "id": "ZI_BRQVJz-SQ",
        "colab": {
          "base_uri": "https://localhost:8080/",
          "height": 551
        },
        "outputId": "913ff0a6-b6db-48e3-ea6a-27de15af611b"
      },
      "source": [
        "from IPython.display import Image\n",
        "\n",
        "# Create the url associated to the Image you want\n",
        "url = LST_im.getThumbUrl({'min': 10, 'max': 30, 'dimensions': 512,\n",
        "                          'region' : roi,\n",
        "                          'palette': ['blue', 'yellow', 'orange', 'red']})\n",
        "print(url)\n",
        "\n",
        "# Display a thumbnail Land Surface Temperature in France\n",
        "Image(url = url)"
      ],
      "execution_count": null,
      "outputs": [
        {
          "output_type": "stream",
          "text": [
            "https://earthengine.googleapis.com/v1alpha/projects/earthengine-legacy/thumbnails/c8ec67c8194d8a4d7caa0abaf9586af6-eca39794aaa54d2e3a893100de662713:getPixels\n"
          ],
          "name": "stdout"
        },
        {
          "output_type": "execute_result",
          "data": {
            "text/html": [
              "<img src=\"https://earthengine.googleapis.com/v1alpha/projects/earthengine-legacy/thumbnails/c8ec67c8194d8a4d7caa0abaf9586af6-eca39794aaa54d2e3a893100de662713:getPixels\"/>"
            ],
            "text/plain": [
              "<IPython.core.display.Image object>"
            ]
          },
          "metadata": {
            "tags": []
          },
          "execution_count": 9
        }
      ]
    },
    {
      "cell_type": "markdown",
      "metadata": {
        "id": "S76A7yGTz-SV"
      },
      "source": [
        "We do the same for ground elevation:"
      ]
    },
    {
      "cell_type": "code",
      "metadata": {
        "id": "3G-rdDZ0z-SW",
        "colab": {
          "base_uri": "https://localhost:8080/",
          "height": 533
        },
        "outputId": "fe70d7af-e586-49ec-fb87-072b1b71a96c"
      },
      "source": [
        "# We create a filter and apply a mask to get hide oceans and seas\n",
        "url2 = ELV.updateMask(ELV.gt(0)).getThumbUrl({'min': 0, 'max': 2500, 'region' : roi,\n",
        "                                              'dimensions': 512,\n",
        "                                              'palette': ['006633', 'E5FFCC', '662A00', 'D8D8D8', 'F5F5F5']})\n",
        "Image(url = url2)"
      ],
      "execution_count": null,
      "outputs": [
        {
          "output_type": "execute_result",
          "data": {
            "text/html": [
              "<img src=\"https://earthengine.googleapis.com/v1alpha/projects/earthengine-legacy/thumbnails/aeb9d07a299ed36edf87fca271bd0948-7e9727c657db864f912587c7845c6082:getPixels\"/>"
            ],
            "text/plain": [
              "<IPython.core.display.Image object>"
            ]
          },
          "metadata": {
            "tags": []
          },
          "execution_count": 18
        }
      ]
    },
    {
      "cell_type": "markdown",
      "metadata": {
        "id": "TCeq6KDzz-Sa"
      },
      "source": [
        "Of course you may want to have a closer look around a specific part of the map. So let's define an other region, adjust the min/max scale and display:"
      ]
    },
    {
      "cell_type": "code",
      "metadata": {
        "id": "tPB8TkV8z-Sb",
        "colab": {
          "base_uri": "https://localhost:8080/",
          "height": 381
        },
        "outputId": "e05dfb2a-a62e-410c-f7dd-c3df55291be8"
      },
      "source": [
        "# We create a buffer zone of 10km around our point of interest\n",
        "lyon = u_poi.buffer(10000)\n",
        "\n",
        "url3 = ELV.getThumbUrl({'min': 150, 'max': 350, 'region' : lyon,\n",
        "                        'dimensions': 512,\n",
        "                        'palette': ['006633', 'E5FFCC', '662A00', 'D8D8D8', 'F5F5F5']})\n",
        "Image(url = url3)"
      ],
      "execution_count": null,
      "outputs": [
        {
          "output_type": "execute_result",
          "data": {
            "text/html": [
              "<img src=\"https://earthengine.googleapis.com/v1alpha/projects/earthengine-legacy/thumbnails/6621ac608cfc94e1c5b71aa0d1c50d45-e8ca88cc84937d8941ef68cf1b3d5d68:getPixels\"/>"
            ],
            "text/plain": [
              "<IPython.core.display.Image object>"
            ]
          },
          "metadata": {
            "tags": []
          },
          "execution_count": 17
        }
      ]
    },
    {
      "cell_type": "markdown",
      "metadata": {
        "id": "oPXy7Dcz6eZU"
      },
      "source": [
        "### Clip an image on a region of interest"
      ]
    },
    {
      "cell_type": "markdown",
      "metadata": {
        "id": "P1ay8Ow86kLW"
      },
      "source": [
        "In case you want to display an image over a given reagion (and nbot outside), we can clip our dataset using the region as an argument of the *clip()* method. Let's say that we want to display the ground elevation in France. We can get the geometry of the administrative boundary of France with the [FAO featureCollection](https://developers.google.com/earth-engine/datasets/catalog/FAO_GAUL_2015_level0) and do as same as before:"
      ]
    },
    {
      "cell_type": "code",
      "metadata": {
        "id": "VfTDRupo6nFn",
        "colab": {
          "base_uri": "https://localhost:8080/",
          "height": 45
        },
        "outputId": "2d2372a7-0b3a-4f8a-a8b1-d153b63577ca"
      },
      "source": [
        "# We get the feature collection of Administrative boundaries (level0)\n",
        "countries = ee.FeatureCollection(\"FAO/GAUL/2015/level0\").select('ADM0_NAME')\n",
        "\n",
        "# We filter the featureCollection to get the feature we want\n",
        "france = countries.filter(ee.Filter.eq('ADM0_NAME', 'France'))\n",
        "\n",
        "# We clip the image on France\n",
        "ELV_fr = ELV.updateMask(ELV.gt(0)).clip(france)\n",
        "\n",
        "# Create the url associated to the Image you want\n",
        "url4 = ELV_fr.getThumbUrl({'min': 0, 'max': 2500, 'region' : roi,\n",
        "                                              'dimensions': 512,\n",
        "                                              'palette': ['006633', 'E5FFCC', '662A00', 'D8D8D8', 'F5F5F5']})\n",
        "# Display a thumbnail of elevation in France.\n",
        "Image(url = url4)"
      ],
      "execution_count": null,
      "outputs": [
        {
          "output_type": "execute_result",
          "data": {
            "text/html": [
              "<img src=\"https://earthengine.googleapis.com/v1alpha/projects/earthengine-legacy/thumbnails/c217768c1af1261d2a7e017bbb124c2f-2095eb9af0f650580a888858df37311a:getPixels\"/>"
            ],
            "text/plain": [
              "<IPython.core.display.Image object>"
            ]
          },
          "metadata": {
            "tags": []
          },
          "execution_count": 19
        }
      ]
    },
    {
      "cell_type": "markdown",
      "metadata": {
        "id": "xxcaz8Ehz-Se"
      },
      "source": [
        "## Export a geotiff file"
      ]
    },
    {
      "cell_type": "markdown",
      "metadata": {
        "id": "24JN6RUtz-Sf"
      },
      "source": [
        "After manipulating Earth Engine datasets, you may need to export a resulting Image to a geotiff. For example, to use it as an input of a numerical model, or to overlap it with personnal georeferecend files in your favorite GIS. There are multiple ways to do that. Here we explore two:\n",
        "- In the first option, we save the Image you want in the Google Drive,\n",
        "- In the second option, we directly download the Image."
      ]
    },
    {
      "cell_type": "markdown",
      "metadata": {
        "id": "nt0UCWwLz-Sg"
      },
      "source": [
        "### Save a GeoTIFF file in your Google Drive"
      ]
    },
    {
      "cell_type": "markdown",
      "metadata": {
        "id": "K57a8oBMz-Sg"
      },
      "source": [
        "To export the image to our Google Drive, we have to define a task and start it. We have to specify the size of pixels (here 30 m), the projection (here EPSG:4326), the file format (here GeoTIFF) and the region of interest (here the area of lyon defined before)."
      ]
    },
    {
      "cell_type": "code",
      "metadata": {
        "id": "MBq7KvoQz-Sh"
      },
      "source": [
        "task = ee.batch.Export.image.toDrive(image = ELV, description = 'Elevation_near_Lyon_France',\n",
        "                                     scale = 30, region = lyon.getInfo()['coordinates'],\n",
        "                                     fileNamePrefix = 'my_export_Lyon', crs = 'EPSG:4326',\n",
        "                                     fileFormat = 'GeoTIFF')\n",
        "task.start()"
      ],
      "execution_count": null,
      "outputs": []
    },
    {
      "cell_type": "markdown",
      "metadata": {
        "id": "m8XY9FhJz-Sm"
      },
      "source": [
        "Then we can check the status of our task:"
      ]
    },
    {
      "cell_type": "code",
      "metadata": {
        "id": "yu6YNZ-7z-Sn",
        "colab": {
          "base_uri": "https://localhost:8080/",
          "height": 160
        },
        "outputId": "ded433f2-1ee8-40b7-c407-2ab1709ba05e"
      },
      "source": [
        "task.status()"
      ],
      "execution_count": null,
      "outputs": [
        {
          "output_type": "execute_result",
          "data": {
            "text/plain": [
              "{'creation_timestamp_ms': 1603810442442,\n",
              " 'description': 'Elevation_near_Lyon_France',\n",
              " 'id': 'V2EORM5O5MY5HE5GI7SN35RW',\n",
              " 'name': 'projects/earthengine-legacy/operations/V2EORM5O5MY5HE5GI7SN35RW',\n",
              " 'start_timestamp_ms': 0,\n",
              " 'state': 'READY',\n",
              " 'task_type': 'EXPORT_IMAGE',\n",
              " 'update_timestamp_ms': 1603810442442}"
            ]
          },
          "metadata": {
            "tags": []
          },
          "execution_count": 21
        }
      ]
    },
    {
      "cell_type": "markdown",
      "metadata": {
        "id": "uvHuByogz-Sr"
      },
      "source": [
        "Now you can check your google drive to find your file."
      ]
    },
    {
      "cell_type": "markdown",
      "metadata": {
        "id": "vRvq1fRlz-Sr"
      },
      "source": [
        "### Get a link to download your GeoTIFF\n"
      ]
    },
    {
      "cell_type": "markdown",
      "metadata": {
        "id": "dUq6e-n-z-Sr"
      },
      "source": [
        "Similarly, we can use the *getDownloadUrl()* method and click on the provided link."
      ]
    },
    {
      "cell_type": "code",
      "metadata": {
        "id": "RGaPd2Tuz-St",
        "colab": {
          "base_uri": "https://localhost:8080/",
          "height": 35
        },
        "outputId": "7f581f2f-3933-4df3-a40f-7f9daac7f354"
      },
      "source": [
        "link = LST_im.getDownloadUrl({\n",
        "    'scale': 30,\n",
        "    'crs': 'EPSG:4326',\n",
        "    'fileFormat' : 'GeoTIFF',\n",
        "    'region': lyon.getInfo()['coordinates']})\n",
        "print(link)"
      ],
      "execution_count": null,
      "outputs": [
        {
          "output_type": "stream",
          "text": [
            "https://earthengine.googleapis.com/v1alpha/projects/earthengine-legacy/thumbnails/cc019705705cbd2a9cd4bed694e4f045-fb56d35a27f917998fd5c2d4c0f494d6:getPixels\n"
          ],
          "name": "stdout"
        }
      ]
    },
    {
      "cell_type": "markdown",
      "metadata": {
        "id": "s35UqBLFz-Sy"
      },
      "source": [
        "# Interactive mapping using folium"
      ]
    },
    {
      "cell_type": "markdown",
      "metadata": {
        "id": "bRzhk3r-z-Sz"
      },
      "source": [
        "To display these GEE datasets on an interactive map, let me introduce you to folium. Folium is a python library based on leaflet.js ([Open-source JavaScript library for mobile-friendly interactive maps](https://leafletjs.com/)) that you can use to make interactive maps. Folium supports WMS, GeoJSON layers, vector layers and tile layers which make it very convenient and straightforward to visulatise the data we manipulate with python. To install this folium, we use the python package installer:"
      ]
    },
    {
      "cell_type": "code",
      "metadata": {
        "id": "IUCfhWxaz-S1",
        "colab": {
          "base_uri": "https://localhost:8080/",
          "height": 214
        },
        "outputId": "6dc12e00-81fd-43e7-a793-29d75ddd2028"
      },
      "source": [
        "!pip install folium"
      ],
      "execution_count": null,
      "outputs": [
        {
          "output_type": "stream",
          "text": [
            "Requirement already satisfied: folium in /usr/local/lib/python3.6/dist-packages (0.8.3)\n",
            "Requirement already satisfied: jinja2 in /usr/local/lib/python3.6/dist-packages (from folium) (2.11.2)\n",
            "Requirement already satisfied: six in /usr/local/lib/python3.6/dist-packages (from folium) (1.15.0)\n",
            "Requirement already satisfied: branca>=0.3.0 in /usr/local/lib/python3.6/dist-packages (from folium) (0.4.1)\n",
            "Requirement already satisfied: requests in /usr/local/lib/python3.6/dist-packages (from folium) (2.23.0)\n",
            "Requirement already satisfied: numpy in /usr/local/lib/python3.6/dist-packages (from folium) (1.18.5)\n",
            "Requirement already satisfied: MarkupSafe>=0.23 in /usr/local/lib/python3.6/dist-packages (from jinja2->folium) (1.1.1)\n",
            "Requirement already satisfied: idna<3,>=2.5 in /usr/local/lib/python3.6/dist-packages (from requests->folium) (2.10)\n",
            "Requirement already satisfied: chardet<4,>=3.0.2 in /usr/local/lib/python3.6/dist-packages (from requests->folium) (3.0.4)\n",
            "Requirement already satisfied: urllib3!=1.25.0,!=1.25.1,<1.26,>=1.21.1 in /usr/local/lib/python3.6/dist-packages (from requests->folium) (1.24.3)\n",
            "Requirement already satisfied: certifi>=2017.4.17 in /usr/local/lib/python3.6/dist-packages (from requests->folium) (2020.6.20)\n"
          ],
          "name": "stdout"
        }
      ]
    },
    {
      "cell_type": "markdown",
      "metadata": {
        "id": "0EVabjSLz-S9"
      },
      "source": [
        "Then we create our first interactive map with one line of code, specifying the location where we want to center the map, the zoom strat, and the main dimensions of the map :"
      ]
    },
    {
      "cell_type": "code",
      "metadata": {
        "id": "s2b6cQc8z-S9",
        "colab": {
          "base_uri": "https://localhost:8080/",
          "height": 1000
        },
        "outputId": "a7be2df9-b9e0-44fa-e3ac-76eeae59260e"
      },
      "source": [
        "import folium\n",
        "\n",
        "my_map = folium.Map(location=[45.77, 4.855], zoom_start=10)\n",
        "my_map"
      ],
      "execution_count": null,
      "outputs": [
        {
          "output_type": "execute_result",
          "data": {
            "text/html": [
              "<div style=\"width:100%;\"><div style=\"position:relative;width:100%;height:0;padding-bottom:60%;\"><span style=\"color:#565656\">Make this Notebook Trusted to load map: File -> Trust Notebook</span><iframe src=\"about:blank\" style=\"position:absolute;width:100%;height:100%;left:0;top:0;border:none !important;\" data-html=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 onload=\"this.contentDocument.open();this.contentDocument.write(atob(this.getAttribute('data-html')));this.contentDocument.close();\" allowfullscreen webkitallowfullscreen mozallowfullscreen></iframe></div></div>"
            ],
            "text/plain": [
              "<folium.folium.Map at 0x7f5cb3c7e898>"
            ]
          },
          "metadata": {
            "tags": []
          },
          "execution_count": 25
        }
      ]
    },
    {
      "cell_type": "markdown",
      "metadata": {
        "id": "VuAKv-7_z-TA"
      },
      "source": [
        "On top of this map, we now want to add the GEE layers we studied before: Land Cover (LC), Land Surface Temperature (LST) and Ground Elevation Model (GEM). For each GEE dataset, the process consists in adding a new tile layer to our map specifying some visualisation parameters. Particularly, we want to respect the common LC classes defined in the table of the previous section (hexadecimal codes are given for each class: water bodies are blue, urban area are grey, forests are green, etc.). Then we define visulaisations parameters associated to LC as follow:"
      ]
    },
    {
      "cell_type": "code",
      "metadata": {
        "id": "TH51zO8Sz-TA"
      },
      "source": [
        "# Set visualization parameters for land cover.\n",
        "LCvis_params = {'min': 1,'max': 17,\n",
        "                'palette': ['05450a','086a10', '54a708', '78d203', '009900',\n",
        "                            'c6b044', 'dcd159', 'dade48', 'fbff13', 'b6ff05',\n",
        "                            '27ff87', 'c24f44', 'a5a5a5', 'ff6d4c', '69fff8',\n",
        "                            'f9ffa4', '1c0dff']}"
      ],
      "execution_count": null,
      "outputs": []
    },
    {
      "cell_type": "markdown",
      "metadata": {
        "id": "B6Ik_dXEz-TF"
      },
      "source": [
        "Then, we use the getMapId method on our LC dataset to get the URL associated to the LC tiles, and we use it as the tiles argument of the TileLayer method applied to our map:"
      ]
    },
    {
      "cell_type": "code",
      "metadata": {
        "id": "d8gYlGXtz-TF",
        "colab": {
          "base_uri": "https://localhost:8080/",
          "height": 1000
        },
        "outputId": "eb39436c-127f-486f-93fb-72e2c200721f"
      },
      "source": [
        "LC = LC.select('LC_Type1').filterDate(i_date) #selection of appropriate bands and dates for LC\n",
        "\n",
        "# We create a map\n",
        "my_map = folium.Map(location=[45.77, 4.855], zoom_start=8)\n",
        "\n",
        "# We get the url associted to the tiles we want to add on our map\n",
        "LC_ee_url_tiles = LC.getMapId(LCvis_params)['tile_fetcher'].url_format\n",
        "\n",
        "# We add a new tile layers to our map\n",
        "folium.TileLayer(\n",
        "tiles = LC_ee_url_tiles,\n",
        "attr = 'Google Earth Engine',\n",
        "name = 'Land Cover',\n",
        "overlay = True,\n",
        "control = True\n",
        ").add_to(my_map)\n",
        "\n",
        "# We add a layer control button on our map, and we do not want it collapsed:\n",
        "folium.LayerControl(collapsed = False).add_to(my_map)\n",
        "\n",
        "# We display the result:\n",
        "my_map"
      ],
      "execution_count": null,
      "outputs": [
        {
          "output_type": "execute_result",
          "data": {
            "text/html": [
              "<div style=\"width:100%;\"><div style=\"position:relative;width:100%;height:0;padding-bottom:60%;\"><span style=\"color:#565656\">Make this Notebook Trusted to load map: File -> Trust Notebook</span><iframe src=\"about:blank\" style=\"position:absolute;width:100%;height:100%;left:0;top:0;border:none !important;\" data-html=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 onload=\"this.contentDocument.open();this.contentDocument.write(atob(this.getAttribute('data-html')));this.contentDocument.close();\" allowfullscreen webkitallowfullscreen mozallowfullscreen></iframe></div></div>"
            ],
            "text/plain": [
              "<folium.folium.Map at 0x7f5cb2eff0f0>"
            ]
          },
          "metadata": {
            "tags": []
          },
          "execution_count": 27
        }
      ]
    },
    {
      "cell_type": "code",
      "metadata": {
        "id": "gF5LGt0wTrCC"
      },
      "source": [
        "my_map.save(\"my_LC_interactive_map.html\")"
      ],
      "execution_count": null,
      "outputs": []
    },
    {
      "cell_type": "markdown",
      "metadata": {
        "id": "7NaxIfIpz-TI"
      },
      "source": [
        "Of course we can add other datasets similarly, by defining some visualization parameters and by addind the approriate tiles:"
      ]
    },
    {
      "cell_type": "code",
      "metadata": {
        "id": "re42KkCsz-TJ",
        "colab": {
          "base_uri": "https://localhost:8080/",
          "height": 1000
        },
        "outputId": "92c1eecd-899f-4b01-a47d-8d89149c2f66"
      },
      "source": [
        "# Set visualization parameters for the ground elevation\n",
        "ELVvis_params = {\n",
        "  'min': 0,\n",
        "  'max': 4000,\n",
        "  'palette': ['006633', 'E5FFCC', '662A00', 'D8D8D8', 'F5F5F5']}\n",
        "# We get the url associted to the GEM tiles\n",
        "ELV_ee_url_tiles = ELV.updateMask(ELV.gt(0)).getMapId(ELVvis_params)['tile_fetcher'].url_format\n",
        "\n",
        "# Set visualization parameters for land surface Temperature.\n",
        "LSTvis_params = {\n",
        "  'min': 0,\n",
        "  'max': 40,\n",
        "  'palette': ['white','blue','green','yellow','orange','red']}\n",
        "\n",
        "# Here we consider that we want to disply the mean LST over the year 2016 (previously defined).\n",
        "# ImageCollection to Image using the mean() method:\n",
        "LST_im = LST.mean()\n",
        "# Operation to take into account the scale factor and conversion into Celsius:\n",
        "LST_im = LST_im.select('LST_Day_1km').multiply(0.02).add(-273.15)\n",
        "# We get the url associted to the LST tiles\n",
        "LST_ee_url_tiles = LST_im.getMapId(LSTvis_params)['tile_fetcher'].url_format\n",
        "\n",
        "# We arrange our tiles urls inside a list:\n",
        "ee_tiles = [ELV_ee_url_tiles, LST_ee_url_tiles, LC_ee_url_tiles]\n",
        "# We arrange our tiles names inside a list:\n",
        "ee_tiles_names = [\"Elevation\", \"Land Surface Temperature\", \"Land Cover\"]\n",
        "\n",
        "# We create a new map\n",
        "my_map = folium.Map(location=[45.77, 4.855], zoom_start=5)\n",
        "\n",
        "# We make a loop over our layers\n",
        "for ee_tile, name in zip(ee_tiles, ee_tiles_names):\n",
        "    folium.TileLayer(\n",
        "    tiles = ee_tile,\n",
        "    attr = 'Google Earth Engine',\n",
        "    name = name,\n",
        "    overlay = True,\n",
        "    control = True\n",
        "    ).add_to(my_map)\n",
        "\n",
        "folium.LayerControl(collapsed = False).add_to(my_map)\n",
        "\n",
        "my_map"
      ],
      "execution_count": null,
      "outputs": [
        {
          "output_type": "execute_result",
          "data": {
            "text/html": [
              "<div style=\"width:100%;\"><div style=\"position:relative;width:100%;height:0;padding-bottom:60%;\"><span style=\"color:#565656\">Make this Notebook Trusted to load map: File -> Trust Notebook</span><iframe src=\"about:blank\" style=\"position:absolute;width:100%;height:100%;left:0;top:0;border:none !important;\" data-html=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 onload=\"this.contentDocument.open();this.contentDocument.write(atob(this.getAttribute('data-html')));this.contentDocument.close();\" allowfullscreen webkitallowfullscreen mozallowfullscreen></iframe></div></div>"
            ],
            "text/plain": [
              "<folium.folium.Map at 0x7f5cb2f19828>"
            ]
          },
          "metadata": {
            "tags": []
          },
          "execution_count": 28
        }
      ]
    },
    {
      "cell_type": "markdown",
      "metadata": {
        "id": "5faWurkbz-TL"
      },
      "source": [
        "Finally, the map can be saved in .html using the command below. Then, you can open it with your favorite navigator."
      ]
    },
    {
      "cell_type": "code",
      "metadata": {
        "id": "FDLed1tBz-TM"
      },
      "source": [
        "my_map.save(\"my_LC_LST_ELV_interactive_map.html\")"
      ],
      "execution_count": null,
      "outputs": []
    },
    {
      "cell_type": "markdown",
      "metadata": {
        "id": "asBHfUbpz-TR"
      },
      "source": [
        "# Documentation"
      ]
    },
    {
      "cell_type": "markdown",
      "metadata": {
        "id": "6ybgVuGnz-TR"
      },
      "source": [
        "- The full documentation of the Google Earth Engine Pyhton API is available [here](https://developers.google.com/earth-engine/api_docs)\n",
        "- The Google Earth engine User Guide is available [here](https://developers.google.com/earth-engine)\n",
        "- Some tutorials are available [here](https://developers.google.com/earth-engine/tutorials)\n",
        "- An example based on the Google Earth Engine Javascript console dedicated to Land Surface Temperature estimation is provided in the open access supplementary material of [Benz et al., (2017)](https://iopscience.iop.org/article/10.1088/1748-9326/aa5fb0/meta). You can access the code [here](https://code.earthengine.google.com/4a1bc64dbc3351a1e364490758d4cf2d).\n",
        "\n"
      ]
    },
    {
      "cell_type": "markdown",
      "metadata": {
        "id": "rT6Jvushaxi5"
      },
      "source": [
        "# Subscribe for further articles"
      ]
    },
    {
      "cell_type": "markdown",
      "metadata": {
        "id": "nOfgPwXPa17t"
      },
      "source": [
        "If you want to be informed by email when new articles are posted, you can subscribe [here](https://guillaumeattard.com/subscribe/)"
      ]
    }
  ]
}