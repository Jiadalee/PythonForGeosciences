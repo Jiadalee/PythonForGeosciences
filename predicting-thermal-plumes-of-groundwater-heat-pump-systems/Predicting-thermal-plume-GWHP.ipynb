{
  "nbformat": 4,
  "nbformat_minor": 0,
  "metadata": {
    "kernelspec": {
      "display_name": "Python 3",
      "language": "python",
      "name": "python3"
    },
    "language_info": {
      "codemirror_mode": {
        "name": "ipython",
        "version": 3
      },
      "file_extension": ".py",
      "mimetype": "text/x-python",
      "name": "python",
      "nbconvert_exporter": "python",
      "pygments_lexer": "ipython3",
      "version": "3.7.3"
    },
    "colab": {
      "name": "Predicting_thermal_plume_GWHP.ipynb",
      "provenance": [],
      "collapsed_sections": [],
      "include_colab_link": true
    }
  },
  "cells": [
    {
      "cell_type": "markdown",
      "metadata": {
        "id": "view-in-github",
        "colab_type": "text"
      },
      "source": [
        "<a href=\"https://colab.research.google.com/github/guiattard/PythonForGeosciences/blob/master/predicting-thermal-plumes-of-groundwater-heat-pump-systems/Predicting-thermal-plume-GWHP.ipynb\" target=\"_parent\"><img src=\"https://colab.research.google.com/assets/colab-badge.svg\" alt=\"Open In Colab\"/></a>"
      ]
    },
    {
      "cell_type": "markdown",
      "metadata": {
        "id": "Y81OsKLGgFTI"
      },
      "source": [
        "# Predicting Thermal Plume of groundwater heat pump systems"
      ]
    },
    {
      "cell_type": "markdown",
      "metadata": {
        "id": "YfCLfoL3gRnu"
      },
      "source": [
        "Notebook created by Guillaume Attard (2/05/2020)\n",
        "\n",
        "https://guillaumeattard.com"
      ]
    },
    {
      "cell_type": "markdown",
      "metadata": {
        "id": "Q2bqGykPgFTO"
      },
      "source": [
        "## Introduction"
      ]
    },
    {
      "cell_type": "markdown",
      "metadata": {
        "id": "uZfgDFmzgFTU"
      },
      "source": [
        "The thermal impact assessment is a crucial step in a geothermal project. Particularly in regards of geothermal energy planning. In this regard, analytical solutions are straightforward tools for a preliminary impact assessment. In this article we explore three analytical solutions which can help to estimate the thermal impact caused by groundwater heat pump systems. The valididy of these (semi-)analytical solutions was discussed in details by Pophillat et al. (2020) [1]. Now, let’s dive into these equations."
      ]
    },
    {
      "cell_type": "markdown",
      "metadata": {
        "id": "FDm_69AcgFTZ"
      },
      "source": [
        "## Table of content\n"
      ]
    },
    {
      "cell_type": "markdown",
      "metadata": {
        "id": "ZTzWKAEagFTd"
      },
      "source": [
        "- Problem settings\n",
        "- Definition of three 2D(semi-)analytical models,\n",
        "- Creation of a grid over a region of interest using numpy,\n",
        "- Plotting the results using matplotlib,\n",
        "- Illustation in case of multiple installations,\n",
        "- Exporting the results in a shapefile using shapely, pandas and geopandas."
      ]
    },
    {
      "cell_type": "markdown",
      "metadata": {
        "id": "zTfSJV3egFTf"
      },
      "source": [
        "## Problem settings\n"
      ]
    },
    {
      "cell_type": "markdown",
      "metadata": {
        "id": "T7ix0Hy9gFTj"
      },
      "source": [
        "Here we study the thermal impact of a hot water injection in an aquifer. The parameters of the problem read as follow:\n",
        "\n",
        "- we study the thermal impact in a 2D plane $x,y$,\n",
        "- the water injection rate is $Q_{inj}$ and temperature difference between injection groundwater background temperature is $\\Delta T_{inj}$,\n",
        "- the groundwater is flowing with an angle $\\alpha$from positives $x$,\n",
        "- the injection is located in $X_{0}$, $Y_{0}$,\n",
        "- the background groundwater seepgae velocity is $v_{a}$, the effective porosity of the aquifer is $n$ and its thickness is $b$,\n",
        "- we also need to define some hydraulic/thermal parameters such as : thermal conductivity of the aquifer ($\\lambda _{m}$), volumetric heat capacity of the aquifer and of water ($ _{m,w}$), longitudinal and transverse dispersivities ($\\alpha _{L,T}$),\n",
        "- we calculate the temperature alteration after a time $t$ of injection."
      ]
    },
    {
      "cell_type": "markdown",
      "metadata": {
        "id": "3X8VpH6qgFTv"
      },
      "source": [
        "## Definition of 2D(semi-)analytical models"
      ]
    },
    {
      "cell_type": "markdown",
      "metadata": {
        "id": "rcr1wwCygFTx"
      },
      "source": [
        "\n",
        "To define our models of intereset, we first need to import some usefull librairies.\n"
      ]
    },
    {
      "cell_type": "code",
      "metadata": {
        "id": "DL_cukFogFT0"
      },
      "source": [
        "import numpy as np\n",
        "import matplotlib as mpl\n",
        "import matplotlib.pyplot as plt\n",
        "from scipy.interpolate import griddata\n",
        "from scipy.special import erf,erfc,erfcinv"
      ],
      "execution_count": null,
      "outputs": []
    },
    {
      "cell_type": "markdown",
      "metadata": {
        "id": "HYoOTS3HgFUE"
      },
      "source": [
        "#### Radial Heat Transport Model"
      ]
    },
    {
      "cell_type": "markdown",
      "metadata": {
        "id": "3ULwxl8tgFUJ"
      },
      "source": [
        "The radial heat transport model [2] is appropriate when the background groundwater flow velocity is almost zero. In that case, the injection of the heated water creates a radial thermal disturbance according to following equation:"
      ]
    },
    {
      "cell_type": "markdown",
      "metadata": {
        "id": "OqLBSw-XgFUM"
      },
      "source": [
        "$\\Delta T(x,y,t ) = \\frac{1}{2} \\text{erfc} \\left(\\frac{r^{2}- r*^{2}}{2 \\left(\\frac{4}{3} \\alpha _{L} r*^{3} + \\frac{\\lambda _{m}}{A_{T} C_{m}} r*^{4}\\right)^{1/2} }\\right)$"
      ]
    },
    {
      "cell_type": "markdown",
      "metadata": {
        "id": "Dr4xYwG8gFUP"
      },
      "source": [
        "with: $r* = \\left( 2 A_{T}t \\right)^{1/2}$, $A_{T} = \\frac{Q_{inj}}{2R \\pi n b}$ and $R = \\frac{C_{m}}{nC_{w}}$ "
      ]
    },
    {
      "cell_type": "code",
      "metadata": {
        "id": "oMK6PS-_gFUQ"
      },
      "source": [
        "def RHT(x,y,X0,Y0,t,Qinj,DTinj,b,va,n,C_m,C_w,alpha_L,alpha_T,lambda_m):\n",
        "    R = C_m/(n*C_w)\n",
        "    At = (1/R)*(Qinj/(2*np.pi*n*b))\n",
        "    rp = np.sqrt(2*At*t)\n",
        "     \n",
        "    x = x - X0                                                          \n",
        "    y = y - Y0 \n",
        "     \n",
        "    r = np.sqrt(x**2+y**2)\n",
        "     \n",
        "    return (DTinj/2)*erfc((r**2-rp**2)/(2*np.sqrt((4*alpha_L/3)*(rp**3)+(lambda_m/At/C_m)*(rp**4))))"
      ],
      "execution_count": null,
      "outputs": []
    },
    {
      "cell_type": "markdown",
      "metadata": {
        "id": "5GBYFM3zgFUb"
      },
      "source": [
        "#### Planar advective heat transport model"
      ]
    },
    {
      "cell_type": "markdown",
      "metadata": {
        "id": "YN-dyM-YgFUd"
      },
      "source": [
        "The planar advective heat transport model [3] accounts for the fact that injection may induce a high local hydraulic gradient around the injection well. In such a case, the geometry of this heat source cannot be considered only with a vertical line. Instead, the source is represented as an area in the yz-plane. Accordingly, in a 2D horizontal projection in the xy-plane, the heat source corresponds to a line perpendicular to the groundwater flow direction. Please note that this model is undefined upstream the injection (for x < 0)."
      ]
    },
    {
      "cell_type": "markdown",
      "metadata": {
        "id": "yy9U4vCEgFUf"
      },
      "source": [
        "$\\frac{\\Delta T_{0}}{4} \\text{erfc}\\left( \\frac{Rx - v_{a}t}{2 \\sqrt(D_{x}Rt)}\\right) \\left( \\text{erf}\\left( \\frac{y + Y/2}{2 \\sqrt(D_{y}x/v_{a})}\\right) - \\text{erf}\\left( \\frac{y - Y/2}{2 \\sqrt(D_{y}x/v_{a})}\\right)\\right)$"
      ]
    },
    {
      "cell_type": "markdown",
      "metadata": {
        "id": "2XBXaMxNgFUi"
      },
      "source": [
        "with $\\Delta T_{0} = \\frac{F_{0}}{v_{a}nC_{w}Y}$, $F_{0} = \\frac{q_{h}}{b}$, $q_{h} = \\Delta T_{inj} C_{w} Q_{inj}$, $D_{x,y} = \\frac{\\lambda _{m}}{n C_{w}} + \\alpha _{L,T} v_{a}$  and $Y = \\frac{Q_{inj}}{2b v_{a} n}$"
      ]
    },
    {
      "cell_type": "code",
      "metadata": {
        "id": "J8FLt9kqgFUj"
      },
      "source": [
        "def PAHT(x, y, X0, Y0, alpha, t, Qinj, DTinj, \n",
        "         b, va, n, C_m, C_w, alpha_L, alpha_T, lambda_m):\n",
        "    Y = Qinj/(2*b*va*n)\n",
        "    qh = DTinj*C_w*Qinj\n",
        "    F0 = qh/b\n",
        "    DT0 = F0/(va*n*C_w*Y)\n",
        "    Dx = lambda_m/n/C_w + alpha_L*va\n",
        "    Dy = lambda_m/n/C_w + alpha_T*va\n",
        "    R = C_m/(n*C_w)\n",
        "     \n",
        "    alpha_rad = -alpha*np.pi/180\n",
        "    x1 = x - X0                                                          \n",
        "    y1 = y - Y0 \n",
        "     \n",
        "    x2 = np.cos(alpha_rad)*x1 - np.sin(alpha_rad)*y1                  \n",
        "    y2 = np.sin(alpha_rad)*x1 + np.cos(alpha_rad)*y1\n",
        "     \n",
        "    res = DT0/4*erfc((R*x2 - va*t)/(2*np.sqrt(Dx*R*t)))*\\\n",
        "    (erf((y2 + Y/2)/(2*np.sqrt(Dy*x2/va))) - erf((y2 - Y/2)/(2*np.sqrt(Dy*x2/va))))\n",
        "    \n",
        "    #Sqrt function is not defined for negative values. So we transform 'nan' values to 0\n",
        "    #using the nan_to_num method\n",
        "    res = np.nan_to_num(res)\n",
        " \n",
        "    return res"
      ],
      "execution_count": null,
      "outputs": []
    },
    {
      "cell_type": "markdown",
      "metadata": {
        "id": "TefsLf6OgFUy"
      },
      "source": [
        "#### Linear advective heat transport model"
      ]
    },
    {
      "cell_type": "markdown",
      "metadata": {
        "id": "nDcXthL4gFUz"
      },
      "source": [
        "The linear model [4] is appropriate for higher groundwater flow velocities. It describes heat propagation from an injection well with transient\n",
        "conditions, simulated as continuous line-source, considering background flow:\n",
        "\n",
        "$ \\Delta T(x,y,t) = \\frac{Q_{inj} \\Delta T_{inj}}{4 n b v_{a} \\sqrt(\\pi \\alpha _ {T})} \\text{exp} \\left( \\frac{x -r'}{2 \\alpha _{L}}\\right)\\frac{1}{\\sqrt(r')} \\text{erfc} \\left( \\frac{r' -v_{a}t/R}{2 \\sqrt(v_{a} \\alpha _{L}t/R)} \\right)$"
      ]
    },
    {
      "cell_type": "code",
      "metadata": {
        "id": "M-vQVi1ggFU1"
      },
      "source": [
        "def LAHT(x, y, X0, Y0, alpha, t, Qinj, DTinj,\n",
        "         b, va, n, C_m, C_w, alpha_L, alpha_T, lambda_m):\n",
        "    \n",
        "    R = C_m/n/C_w\n",
        "    \n",
        "    alpha_rad = -alpha*np.pi/180\n",
        "    x = x - X0                                                          \n",
        "    y = y - Y0 \n",
        "    \n",
        "    x = np.cos(alpha_rad)*x - np.sin(alpha_rad)*y                  \n",
        "    y = np.sin(alpha_rad)*x + np.cos(alpha_rad)*y \n",
        "    \n",
        "    rp = np.sqrt(x**2+y**2*alpha_L/alpha_T)\n",
        "    \n",
        "    res = Qinj*DTinj/(4*n*b*va*np.sqrt(np.pi*alpha_T))*\\\n",
        "    np.exp((x-rp)/2/alpha_L)*(1/np.sqrt(rp))*\\\n",
        "    erfc((rp-va*t/R)/(2*np.sqrt(va*alpha_L*t/R)))\n",
        "    \n",
        "    return res"
      ],
      "execution_count": null,
      "outputs": []
    },
    {
      "cell_type": "markdown",
      "metadata": {
        "id": "yOMauruMgFU-"
      },
      "source": [
        "## Creation of a grid over a region of interest using numpy\n"
      ]
    },
    {
      "cell_type": "markdown",
      "metadata": {
        "id": "DgSH-KpugFVA"
      },
      "source": [
        "To apply one of these models, we need to define a grid over a region of interest. So we need to define the extent of interest ($X_{min}$, $X_{max}$ and $Y_{min}$, $Y_{max}$) and to discretize this area. We can do that using linespace and meshgrid functions of the numpy librairy :"
      ]
    },
    {
      "cell_type": "code",
      "metadata": {
        "id": "ZZ-2-cQYgFVG"
      },
      "source": [
        "#definition of your grid from Xmin to Xmax, and from Ymin to Ymax\n",
        "Xmin = -100\n",
        "Xmax = 100\n",
        "xgrid_len = 200\n",
        "\n",
        "Ymin = -100\n",
        "Ymax = 100\n",
        "ygrid_len = 200\n",
        "\n",
        "#You create your grif of interest\n",
        "xi = np.linspace(Xmin, Xmax, xgrid_len)                                    \n",
        "yi = np.linspace(Ymin, Ymax, ygrid_len)                                    \n",
        "xi, yi = np.meshgrid(xi, yi)"
      ],
      "execution_count": null,
      "outputs": []
    },
    {
      "cell_type": "markdown",
      "metadata": {
        "id": "MOzOt4EagFVV"
      },
      "source": [
        "## Plotting the results using matplotlib"
      ]
    },
    {
      "cell_type": "markdown",
      "metadata": {
        "id": "YvpmJKSQgFVY"
      },
      "source": [
        "Before using our models over our grid, we need to define the parameters of the problem. So let’s take the values below as example, and let’s assume that we calculate the thermal impact after one year of hot water injection:"
      ]
    },
    {
      "cell_type": "code",
      "metadata": {
        "id": "3IgYJLQWgFVa"
      },
      "source": [
        "C_m = float(2888000) #volumetric heat capacity porous media (J/ kg / K)\n",
        "C_w = float(4185000) #volumetric heat capacity water (J/ kg / K)\n",
        "alpha_L = float(5) #longitudinal dispersivity (m)\n",
        "alpha_T = float(0.5) #transverse dispersivity (m)\n",
        "lambda_m = float(2.24) #thermal conductivity (W/m/K)\n",
        " \n",
        "alpha = float(20) # groundwater flow angle\n",
        "K = float(0.001) #permeability (m/s)\n",
        "b = float(10) #aquifer thickness [m]\n",
        "grad_h = float(0.001) #hydraulic gradient\n",
        "n = float(0.2) #effective porosity\n",
        " \n",
        "v0 = K*grad_h #darcy velocity\n",
        "va = v0/n #seepage velocity\n",
        "R = C_m/(n*C_w) #retardation factor\n",
        " \n",
        "#We also define the location of the hot water injection\n",
        "X0, Y0 = 20, 20\n",
        "DTinj = 10. #temperature difference between pumping and reinjection\n",
        "Qinj = 0.0001 #injection rate m3/s\n",
        "time = 365*24*3600 # operation time in seconds (365 days)"
      ],
      "execution_count": null,
      "outputs": []
    },
    {
      "cell_type": "markdown",
      "metadata": {
        "id": "v0GakFd9gFVj"
      },
      "source": [
        "Then, we can calculate the thermal impact over our grid using the three models previously defined. Please note that in the case of the radial model, there is not background groundwater velocity:"
      ]
    },
    {
      "cell_type": "code",
      "metadata": {
        "id": "2dMICqlSgFVl",
        "colab": {
          "base_uri": "https://localhost:8080/",
          "height": 34
        },
        "outputId": "a44917f4-21f1-4ab1-bebd-582be9aac922"
      },
      "source": [
        "deltaT_rht =  RHT(xi, yi, X0, Y0, time, Qinj, DTinj, b, va, n, C_m, C_w, alpha_L, alpha_T, lambda_m)\n",
        " \n",
        "deltaT_paht = PAHT(xi, yi, X0, Y0, alpha, time, Qinj, DTinj, b, va, n, C_m, C_w, alpha_L, alpha_T, lambda_m)\n",
        " \n",
        "deltaT_laht = LAHT(xi, yi, X0, Y0, alpha, time, Qinj, DTinj, b, va, n, C_m, C_w, alpha_L, alpha_T, lambda_m)"
      ],
      "execution_count": null,
      "outputs": [
        {
          "output_type": "stream",
          "text": [
            "/usr/local/lib/python3.6/dist-packages/ipykernel_launcher.py:18: RuntimeWarning: invalid value encountered in sqrt\n"
          ],
          "name": "stderr"
        }
      ]
    },
    {
      "cell_type": "markdown",
      "metadata": {
        "id": "14d11FlQgFVy"
      },
      "source": [
        "Now we can create our figure using matplotlib. The three subplots represent the thermal impact calculation using the Radial, Planar and Linear model:"
      ]
    },
    {
      "cell_type": "code",
      "metadata": {
        "id": "oWQgIi-qgFV0",
        "colab": {
          "base_uri": "https://localhost:8080/",
          "height": 390
        },
        "outputId": "fb084671-735a-42cb-f492-355c2cc93750"
      },
      "source": [
        "%matplotlib inline\n",
        "#We define the titles of our subplots\n",
        "titles =[\"Radial model (no groundwater velocity)\",\n",
        "         \"Planar model\",\n",
        "         \"Linear model\"]\n",
        "\n",
        "results = [deltaT_rht, deltaT_paht, deltaT_laht]\n",
        " \n",
        "fig, axs = plt.subplots(1,3, figsize=(23,6))\n",
        "for i in range(3):\n",
        "    ax = axs[i]\n",
        "    ax.set_title(titles[i])\n",
        "    ax.axis('equal')\n",
        "    cf= ax.contourf(xi, yi, results[i], [1,2,3,4,5,6,7,8,9,10], cmap='viridis') # analytical contour (1 K disturbance)\n",
        "    ax.grid(color='black', linestyle='-', linewidth=0.1)\n",
        "    ax.scatter(X0, Y0, color='red', label = \"Injection point\")   \n",
        "    ax.set_xlim(0, 100)\n",
        "    ax.set_ylim(0, 100)\n",
        "    ax.legend()\n",
        " \n",
        "fig.colorbar(cf, ax=axs.ravel().tolist(), label = \"Temperature disturbance [K]\")\n",
        " \n",
        "plt.show()"
      ],
      "execution_count": null,
      "outputs": [
        {
          "output_type": "display_data",
          "data": {
            "image/png": "[encoded data removed]",
            "text/plain": [
              "<Figure size 1656x432 with 4 Axes>"
            ]
          },
          "metadata": {
            "tags": [],
            "needs_background": "light"
          }
        }
      ]
    },
    {
      "cell_type": "markdown",
      "metadata": {
        "id": "_Wknj6BVgFWD"
      },
      "source": [
        "## Illustation in case of multiple installations"
      ]
    },
    {
      "cell_type": "markdown",
      "metadata": {
        "id": "hofAZSzQgFWE"
      },
      "source": [
        "In case you want to calculate the thermal impact caused by several installations, you can iterate over your installations and calculate the total thermal impact (of course you have to assume that thermal impacts are additive which is not rigourously the case. However, this assumption can help to have an idea of the thermal stress of an higly sollicited area).\n",
        "\n",
        "Let’s choose the linear model and calculate the thermal impact of three installations:"
      ]
    },
    {
      "cell_type": "code",
      "metadata": {
        "id": "PJ2Aw8ZlgFWG",
        "colab": {
          "base_uri": "https://localhost:8080/",
          "height": 444
        },
        "outputId": "913d14c0-4516-4491-e9d2-7b3eb673e574"
      },
      "source": [
        "#inistialize an array of 0 with the good size\n",
        "deltaT_m = xi - xi \n",
        " \n",
        "#add the impact of the first instalation\n",
        "X0_1, Y0_1 = 0, 0 #location of the first installation\n",
        "deltaT_m += LAHT(xi, yi, X0_1, Y0_1, 20, time, 0.0002, 10, b, 5*va, n, C_m, C_w, alpha_L, alpha_T, lambda_m)\n",
        " \n",
        "#add the impact of the second instalation\n",
        "X0_2, Y0_2 = 0, 50 #location of the second installation\n",
        "deltaT_m += LAHT(xi, yi, X0_2, Y0_2, 25, time, 0.0001, 10, b , 5*va, n, C_m, C_w, alpha_L, alpha_T, lambda_m)\n",
        " \n",
        "#add the impact of the third instalation\n",
        "X0_3, Y0_3 = -50, -50 #location of the third installation\n",
        "deltaT_m += LAHT(xi, yi, X0_3, Y0_3, 0, time, 0.0001, 10, b, 5*va, n, C_m, C_w, alpha_L, alpha_T, lambda_m)\n",
        " \n",
        "#Creation of the figure\n",
        "fig, ax = plt.subplots(figsize=(7,7))\n",
        " \n",
        "ax.set_title(\"Cumulative impact of multiple injections\")\n",
        "ax.axis('equal')\n",
        "cf= ax.contourf(xi, yi, deltaT_m, [1,2,3,4,5,6,7,8,9,10], cmap='viridis')\n",
        "ax.grid(color='black', linestyle='-', linewidth=0.1)\n",
        "ax.scatter(X0_1, Y0_1, color='red', label = \"Injection point 1\")\n",
        "ax.scatter(X0_2, Y0_2, color='yellow', label = \"Injection point 2\")\n",
        "ax.scatter(X0_3, Y0_3, color='orange', label = \"Injection point 3\")   \n",
        " \n",
        "ax.legend()\n",
        " \n",
        "fig.colorbar(cf, label = \"Temperature disturbance [K]\")\n",
        " \n",
        "plt.show()"
      ],
      "execution_count": null,
      "outputs": [
        {
          "output_type": "display_data",
          "data": {
            "image/png": "[encoded data removed]",
            "text/plain": [
              "<Figure size 504x504 with 2 Axes>"
            ]
          },
          "metadata": {
            "tags": [],
            "needs_background": "light"
          }
        }
      ]
    },
    {
      "cell_type": "markdown",
      "metadata": {
        "id": "EqtYLOeXgFWO"
      },
      "source": [
        "## Exporting the results in a shapefile using shapely, pandas and geopandas"
      ]
    },
    {
      "cell_type": "markdown",
      "metadata": {
        "id": "QxOSqEU1gFWQ"
      },
      "source": [
        "It can be convenient to export our result in a shapefile. With a shapefile, we can project the results over a geographic map in our favourite GIS (The procedure to plot these kind of result on basemaps or on interactive folium map is not covered in this article but will be presented in a future post) and cross the result with other geographical data.\n",
        "\n",
        "In the following a procedure to transform your numpy array associated to the thermal disturbance into a geoDataframe is presented. We’ll finally export this geoDataframe as a shapefile.\n",
        "\n",
        "Let’s first import the librairies we need to do that job:"
      ]
    },
    {
      "cell_type": "code",
      "metadata": {
        "id": "51fgal-4g11N"
      },
      "source": [
        "# uncomment the line below on the first run\n",
        "#!pip install geopandas"
      ],
      "execution_count": null,
      "outputs": []
    },
    {
      "cell_type": "code",
      "metadata": {
        "id": "eRl-wfGFgFWR"
      },
      "source": [
        "import pandas as pd\n",
        "from shapely.geometry import Point\n",
        "from geopandas import GeoDataFrame"
      ],
      "execution_count": null,
      "outputs": []
    },
    {
      "cell_type": "markdown",
      "metadata": {
        "id": "3fIgBPyNgFWf"
      },
      "source": [
        "Then, we can transform our numpy array calculated in the previous section into a pandas dataFrame:"
      ]
    },
    {
      "cell_type": "code",
      "metadata": {
        "id": "br4rHzg-gFWi",
        "colab": {
          "base_uri": "https://localhost:8080/",
          "height": 206
        },
        "outputId": "a6f57168-4581-4abc-a62c-52f07a90ecfd"
      },
      "source": [
        "dat = np.array([xi, yi, deltaT_m]).reshape(3, -1).T\n",
        "df = pd.DataFrame(dat)\n",
        "df.columns = ['X', 'Y', 'DeltaT']\n",
        "df = df.dropna()\n",
        "df.head()"
      ],
      "execution_count": null,
      "outputs": [
        {
          "output_type": "execute_result",
          "data": {
            "text/html": [
              "<div>\n",
              "<style scoped>\n",
              "    .dataframe tbody tr th:only-of-type {\n",
              "        vertical-align: middle;\n",
              "    }\n",
              "\n",
              "    .dataframe tbody tr th {\n",
              "        vertical-align: top;\n",
              "    }\n",
              "\n",
              "    .dataframe thead th {\n",
              "        text-align: right;\n",
              "    }\n",
              "</style>\n",
              "<table border=\"1\" class=\"dataframe\">\n",
              "  <thead>\n",
              "    <tr style=\"text-align: right;\">\n",
              "      <th></th>\n",
              "      <th>X</th>\n",
              "      <th>Y</th>\n",
              "      <th>DeltaT</th>\n",
              "    </tr>\n",
              "  </thead>\n",
              "  <tbody>\n",
              "    <tr>\n",
              "      <th>0</th>\n",
              "      <td>-100.000000</td>\n",
              "      <td>-100.0</td>\n",
              "      <td>2.373318e-10</td>\n",
              "    </tr>\n",
              "    <tr>\n",
              "      <th>1</th>\n",
              "      <td>-98.994975</td>\n",
              "      <td>-100.0</td>\n",
              "      <td>2.709839e-10</td>\n",
              "    </tr>\n",
              "    <tr>\n",
              "      <th>2</th>\n",
              "      <td>-97.989950</td>\n",
              "      <td>-100.0</td>\n",
              "      <td>3.092207e-10</td>\n",
              "    </tr>\n",
              "    <tr>\n",
              "      <th>3</th>\n",
              "      <td>-96.984925</td>\n",
              "      <td>-100.0</td>\n",
              "      <td>3.526389e-10</td>\n",
              "    </tr>\n",
              "    <tr>\n",
              "      <th>4</th>\n",
              "      <td>-95.979899</td>\n",
              "      <td>-100.0</td>\n",
              "      <td>4.019085e-10</td>\n",
              "    </tr>\n",
              "  </tbody>\n",
              "</table>\n",
              "</div>"
            ],
            "text/plain": [
              "            X      Y        DeltaT\n",
              "0 -100.000000 -100.0  2.373318e-10\n",
              "1  -98.994975 -100.0  2.709839e-10\n",
              "2  -97.989950 -100.0  3.092207e-10\n",
              "3  -96.984925 -100.0  3.526389e-10\n",
              "4  -95.979899 -100.0  4.019085e-10"
            ]
          },
          "metadata": {
            "tags": []
          },
          "execution_count": 13
        }
      ]
    },
    {
      "cell_type": "markdown",
      "metadata": {
        "id": "3S6wsPypgFWu"
      },
      "source": [
        "Now, we can use shapely and geopandas to transforme the dataframe into a geodataframe. Fisrt a geometry field is created in our dataframe. Secondly, the geodataframe function is used sepecifying the geometry field of the dataframe."
      ]
    },
    {
      "cell_type": "code",
      "metadata": {
        "id": "C0sQNjVOgFWw",
        "colab": {
          "base_uri": "https://localhost:8080/",
          "height": 206
        },
        "outputId": "a0a62521-04a8-423f-a385-920c48978164"
      },
      "source": [
        "df['geometry'] = df.apply(lambda x: Point((float(x.X), float(x.Y))), axis=1)\n",
        "geopd = GeoDataFrame(df, geometry='geometry') #Here is you geodataframe\n",
        "geopd.head()"
      ],
      "execution_count": null,
      "outputs": [
        {
          "output_type": "execute_result",
          "data": {
            "text/html": [
              "<div>\n",
              "<style scoped>\n",
              "    .dataframe tbody tr th:only-of-type {\n",
              "        vertical-align: middle;\n",
              "    }\n",
              "\n",
              "    .dataframe tbody tr th {\n",
              "        vertical-align: top;\n",
              "    }\n",
              "\n",
              "    .dataframe thead th {\n",
              "        text-align: right;\n",
              "    }\n",
              "</style>\n",
              "<table border=\"1\" class=\"dataframe\">\n",
              "  <thead>\n",
              "    <tr style=\"text-align: right;\">\n",
              "      <th></th>\n",
              "      <th>X</th>\n",
              "      <th>Y</th>\n",
              "      <th>DeltaT</th>\n",
              "      <th>geometry</th>\n",
              "    </tr>\n",
              "  </thead>\n",
              "  <tbody>\n",
              "    <tr>\n",
              "      <th>0</th>\n",
              "      <td>-100.000000</td>\n",
              "      <td>-100.0</td>\n",
              "      <td>2.373318e-10</td>\n",
              "      <td>POINT (-100.000 -100.000)</td>\n",
              "    </tr>\n",
              "    <tr>\n",
              "      <th>1</th>\n",
              "      <td>-98.994975</td>\n",
              "      <td>-100.0</td>\n",
              "      <td>2.709839e-10</td>\n",
              "      <td>POINT (-98.995 -100.000)</td>\n",
              "    </tr>\n",
              "    <tr>\n",
              "      <th>2</th>\n",
              "      <td>-97.989950</td>\n",
              "      <td>-100.0</td>\n",
              "      <td>3.092207e-10</td>\n",
              "      <td>POINT (-97.990 -100.000)</td>\n",
              "    </tr>\n",
              "    <tr>\n",
              "      <th>3</th>\n",
              "      <td>-96.984925</td>\n",
              "      <td>-100.0</td>\n",
              "      <td>3.526389e-10</td>\n",
              "      <td>POINT (-96.985 -100.000)</td>\n",
              "    </tr>\n",
              "    <tr>\n",
              "      <th>4</th>\n",
              "      <td>-95.979899</td>\n",
              "      <td>-100.0</td>\n",
              "      <td>4.019085e-10</td>\n",
              "      <td>POINT (-95.980 -100.000)</td>\n",
              "    </tr>\n",
              "  </tbody>\n",
              "</table>\n",
              "</div>"
            ],
            "text/plain": [
              "            X      Y        DeltaT                   geometry\n",
              "0 -100.000000 -100.0  2.373318e-10  POINT (-100.000 -100.000)\n",
              "1  -98.994975 -100.0  2.709839e-10   POINT (-98.995 -100.000)\n",
              "2  -97.989950 -100.0  3.092207e-10   POINT (-97.990 -100.000)\n",
              "3  -96.984925 -100.0  3.526389e-10   POINT (-96.985 -100.000)\n",
              "4  -95.979899 -100.0  4.019085e-10   POINT (-95.980 -100.000)"
            ]
          },
          "metadata": {
            "tags": []
          },
          "execution_count": 14
        }
      ]
    },
    {
      "cell_type": "markdown",
      "metadata": {
        "id": "QpV_IDt2gFW5"
      },
      "source": [
        "Finally, our file can be exported using the to_file() method:"
      ]
    },
    {
      "cell_type": "code",
      "metadata": {
        "id": "xOfFE_ccgFW6"
      },
      "source": [
        "#uncomment the line below to export your result\n",
        "\n",
        "#geopd.to_file('my_result.shp', driver='ESRI Shapefile')"
      ],
      "execution_count": null,
      "outputs": []
    },
    {
      "cell_type": "markdown",
      "metadata": {
        "id": "RbDdw0HogFXD"
      },
      "source": [
        "## Bibliography"
      ]
    },
    {
      "cell_type": "markdown",
      "metadata": {
        "id": "KGGGoMQXgFXE"
      },
      "source": [
        "[1] Pophillat, W., Attard, G., Bayer, P., Hecht-Méndez, J., & Blum, P. (2020). Analytical solutions for predicting thermal plumes of groundwater heat pump systems. Renewable Energy, 147, 2696-2707.\n",
        "\n",
        "[2] Guimerà, J., Ortuño, F., Ruiz, E., Delos, A., & Pérez-Paricio, A. (2007, May). Influence of ground-source heat pumps on groundwater. In Conference Proceedings: European Geothermal Congress.\n",
        "\n",
        "[3] Hähnlein, S., Molina-Giraldo, N., Blum, P., Bayer, P., & Grathwohl, P. (2010). Ausbreitung von Kältefahnen im Grundwasser bei Erdwärmesonden. Grundwasser, 15(2), 123-133.\n",
        "\n",
        "[4] Kinzelbach, W. (1987). Numerische Methoden zur Modellierung des Transports von Schadstoffen im Grundwasser. Oldenbourg."
      ]
    }
  ]
}